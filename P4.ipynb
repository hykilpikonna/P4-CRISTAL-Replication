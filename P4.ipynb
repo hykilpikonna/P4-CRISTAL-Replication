{
 "nbformat": 4,
 "nbformat_minor": 0,
 "metadata": {
  "colab": {
   "name": "group_note.ipynb",
   "provenance": [],
   "collapsed_sections": []
  },
  "kernelspec": {
   "name": "python3",
   "display_name": "Python 3"
  },
  "language_info": {
   "name": "python"
  }
 },
 "cells": [
  {
   "cell_type": "markdown",
   "source": [
    "## Google Colab Only - Download Source Code and Data\n",
    "\n",
    "The download code is hosted on sharepoint, since we need to keep parts of the code private. If the download links doesn't work, please contact hy.gui@mail.utoronto.ca"
   ],
   "metadata": {
    "collapsed": false,
    "pycharm": {
     "name": "#%% md\n"
    }
   }
  },
  {
   "cell_type": "code",
   "execution_count": 1,
   "outputs": [
    {
     "name": "stdout",
     "output_type": "stream",
     "text": [
      "Source code exists, skipping download...\n"
     ]
    }
   ],
   "source": [
    "from __future__ import annotations\n",
    "import os\n",
    "\n",
    "\n",
    "def download_src(re_download: bool = False):\n",
    "    if not re_download and os.path.isfile('requirements.txt'):\n",
    "        print('Source code exists, skipping download...')\n",
    "        return\n",
    "\n",
    "    !wget -O code.zip \"https://codeload.github.com/hykilpikonna/P4-CRISTAL-Replication/zip/refs/heads/main\" -q --show-progress\n",
    "    !unzip code.zip\n",
    "    !mv P4-CRISTAL-Replication-main/* .\n",
    "    !rm code.zip\n",
    "\n",
    "\n",
    "download_src()"
   ],
   "metadata": {
    "collapsed": false,
    "pycharm": {
     "name": "#%%\n"
    }
   }
  },
  {
   "cell_type": "code",
   "execution_count": 2,
   "outputs": [
    {
     "name": "stdout",
     "output_type": "stream",
     "text": [
      "Data exists, skipping download...\n"
     ]
    }
   ],
   "source": [
    "def download_data(re_download: bool = False):\n",
    "    if not re_download and os.path.isdir('github'):\n",
    "        print('Data exists, skipping download...')\n",
    "        return\n",
    "\n",
    "    if not os.path.isfile('data.tar.zst'):\n",
    "        !wget -O data.tar.zst \"https://hydevelop-my.sharepoint.com/:u:/g/personal/me_hydev_org/EbofDOyJNrhGlWAeb4xbS6MBKToILLw5rk8jMFKKjYDULg?download=1\" -q --show-progress\n",
    "\n",
    "    !echo 'Installing ZSTD'\n",
    "    !apt update > apt.log 2>/dev/null && apt install gzip zstd pv -y >> apt.log 2>/dev/null \\\n",
    "            && echo 'ZSTD Installed Successfully' || echo 'ZSTD Install Failed (check apt.log)'\n",
    "\n",
    "    !echo 'Extracting...'\n",
    "    # !pv data.tar.zst -f | tar -I zstd -x\n",
    "    !tar -I zstd -x -f data.tar.zst --checkpoint=.4096 --totals\n",
    "\n",
    "\n",
    "download_data()"
   ],
   "metadata": {
    "collapsed": false,
    "pycharm": {
     "name": "#%%\n"
    }
   }
  },
  {
   "cell_type": "markdown",
   "source": [
    "# -1: Environment Setup\n",
    "\n",
    "### Install Dependencies"
   ],
   "metadata": {
    "collapsed": false,
    "pycharm": {
     "name": "#%% md\n"
    }
   }
  },
  {
   "cell_type": "code",
   "execution_count": 3,
   "outputs": [
    {
     "name": "stdout",
     "output_type": "stream",
     "text": [
      "Python 3.9.13 | packaged by conda-forge | (main, May 27 2022, 16:58:50) \r\n",
      "[GCC 10.3.0]\r\n"
     ]
    }
   ],
   "source": [
    "!python -VVV"
   ],
   "metadata": {
    "collapsed": false,
    "pycharm": {
     "name": "#%%\n"
    }
   }
  },
  {
   "cell_type": "code",
   "execution_count": 4,
   "outputs": [],
   "source": [
    "!pip install -r requirements.txt -q"
   ],
   "metadata": {
    "collapsed": false,
    "pycharm": {
     "name": "#%%\n"
    }
   }
  },
  {
   "cell_type": "code",
   "execution_count": 5,
   "outputs": [],
   "source": [
    "from __future__ import annotations\n",
    "\n",
    "import json\n",
    "import os\n",
    "import shlex\n",
    "import tempfile\n",
    "import warnings\n",
    "import xml.etree.ElementTree as ET\n",
    "from datetime import datetime\n",
    "from pathlib import Path\n",
    "from subprocess import check_output, check_call\n",
    "from typing import NamedTuple\n",
    "\n",
    "import dateutil.parser\n",
    "import nltk\n",
    "import pandas as pd\n",
    "from hypy_utils import json_stringify\n",
    "from nltk.corpus import stopwords\n",
    "\n",
    "warnings.filterwarnings('ignore')"
   ],
   "metadata": {
    "collapsed": false,
    "pycharm": {
     "name": "#%%\n"
    }
   }
  },
  {
   "cell_type": "code",
   "execution_count": 6,
   "outputs": [
    {
     "name": "stdout",
     "output_type": "stream",
     "text": [
      "Number of selected apps/repos: 637\n"
     ]
    }
   ],
   "source": [
    "apps: dict[str, str] = json.loads(Path('other_data/app_sets/selected_apps.json').read_text())\n",
    "print('Number of selected apps/repos:', len(apps))"
   ],
   "metadata": {
    "collapsed": false,
    "pycharm": {
     "name": "#%%\n"
    }
   }
  },
  {
   "cell_type": "code",
   "execution_count": 7,
   "outputs": [],
   "source": [
    "DIR_GITHUB = Path('github')\n",
    "DIR_REVIEWS = Path('reviews')\n",
    "\n",
    "DIR_REPO_ISSUES =         lambda repo: DIR_GITHUB / 'repos' / repo / 'issues.json'\n",
    "DIR_REPO_ISSUE_COMMENTS = lambda repo, issue: DIR_GITHUB / 'repos' / repo / 'issues' / str(issue) / 'comments.json'\n",
    "DIR_REPO_COMMITS =        lambda repo: DIR_GITHUB / 'commits' / repo / 'commits.json'\n",
    "DIR_REPO_STRINGS_XML =    lambda repo: DIR_GITHUB / 'source' / 'strings.xml' / f\"{repo.replace('/', '-')}.xml\"\n",
    "DIR_REPO_LOC =            lambda repo: DIR_GITHUB / 'source' / 'loc' / f\"{repo.replace('/', '-')}.txt\"\n",
    "\n",
    "DIR_APP_REVIEWS =         lambda pkg: DIR_REVIEWS / 'play_store' / f'{pkg}.json'\n",
    "DIR_APP_REVIEWS_PRED =    lambda pkg: DIR_REVIEWS / 'play_store_pred' / f'{pkg}.json'\n",
    "DIR_APP_RELEASES =        lambda pkg: DIR_REVIEWS / 'f_droid_releases' / f'{pkg}.json'"
   ],
   "metadata": {
    "collapsed": false,
    "pycharm": {
     "name": "#%%\n"
    }
   }
  },
  {
   "cell_type": "markdown",
   "source": [
    "# 2. Data Collection, Cleaning, Preprocessing\n",
    "\n",
    "### 2.1. Issue Extractor (Cleaning Existing Data)"
   ],
   "metadata": {
    "collapsed": false,
    "pycharm": {
     "name": "#%% md\n"
    }
   }
  },
  {
   "cell_type": "code",
   "execution_count": 8,
   "outputs": [
    {
     "data": {
      "text/plain": "     id                                              title  \\\n0  1558                                Add zxing-dart link   \n1  1557                      update nu-book/zxing-cpp link   \n2  1556  QR Code Scans on zxing.org, but not in Browser...   \n3  1555                                         auto zoom?   \n4  1554  Can you support the OpenHarmony JavaScript ver...   \n\n                                                desc           author  \\\n0                                               None           shirne   \n1  nu-book/zxing-cpp is now reachable under zxing...            axxel   \n2  The following QR code scans in the zxing.org w...      wisefool769   \n3  Hello, does zxing have long-distance automatic...  langyangyangzzZ   \n4  I am developing an OpenHarmony application wit...        DoraCoder   \n\n                 opened              modified                closed  \\\n0  2022-08-25T01:27:07Z  2022-08-25T01:34:36Z  2022-08-25T01:34:36Z   \n1  2022-08-24T22:38:53Z  2022-08-24T22:45:12Z  2022-08-24T22:45:12Z   \n2  2022-08-24T21:08:49Z  2022-08-24T23:17:18Z  2022-08-24T21:19:12Z   \n3  2022-08-22T01:31:18Z  2022-08-22T22:45:52Z  2022-08-22T01:40:31Z   \n4  2022-08-17T08:52:38Z  2022-08-17T12:05:37Z  2022-08-17T12:05:37Z   \n\n                                            comments  \n0                                                 []  \n1                                                 []  \n2  [(1556, srowen, 2022-08-24T21:19:12Z, You can ...  \n3  [(1555, srowen, 2022-08-22T01:40:31Z, It just ...  \n4  [(1554, srowen, 2022-08-17T12:05:37Z, No there...  ",
      "text/html": "<div>\n<style scoped>\n    .dataframe tbody tr th:only-of-type {\n        vertical-align: middle;\n    }\n\n    .dataframe tbody tr th {\n        vertical-align: top;\n    }\n\n    .dataframe thead th {\n        text-align: right;\n    }\n</style>\n<table border=\"1\" class=\"dataframe\">\n  <thead>\n    <tr style=\"text-align: right;\">\n      <th></th>\n      <th>id</th>\n      <th>title</th>\n      <th>desc</th>\n      <th>author</th>\n      <th>opened</th>\n      <th>modified</th>\n      <th>closed</th>\n      <th>comments</th>\n    </tr>\n  </thead>\n  <tbody>\n    <tr>\n      <th>0</th>\n      <td>1558</td>\n      <td>Add zxing-dart link</td>\n      <td>None</td>\n      <td>shirne</td>\n      <td>2022-08-25T01:27:07Z</td>\n      <td>2022-08-25T01:34:36Z</td>\n      <td>2022-08-25T01:34:36Z</td>\n      <td>[]</td>\n    </tr>\n    <tr>\n      <th>1</th>\n      <td>1557</td>\n      <td>update nu-book/zxing-cpp link</td>\n      <td>nu-book/zxing-cpp is now reachable under zxing...</td>\n      <td>axxel</td>\n      <td>2022-08-24T22:38:53Z</td>\n      <td>2022-08-24T22:45:12Z</td>\n      <td>2022-08-24T22:45:12Z</td>\n      <td>[]</td>\n    </tr>\n    <tr>\n      <th>2</th>\n      <td>1556</td>\n      <td>QR Code Scans on zxing.org, but not in Browser...</td>\n      <td>The following QR code scans in the zxing.org w...</td>\n      <td>wisefool769</td>\n      <td>2022-08-24T21:08:49Z</td>\n      <td>2022-08-24T23:17:18Z</td>\n      <td>2022-08-24T21:19:12Z</td>\n      <td>[(1556, srowen, 2022-08-24T21:19:12Z, You can ...</td>\n    </tr>\n    <tr>\n      <th>3</th>\n      <td>1555</td>\n      <td>auto zoom?</td>\n      <td>Hello, does zxing have long-distance automatic...</td>\n      <td>langyangyangzzZ</td>\n      <td>2022-08-22T01:31:18Z</td>\n      <td>2022-08-22T22:45:52Z</td>\n      <td>2022-08-22T01:40:31Z</td>\n      <td>[(1555, srowen, 2022-08-22T01:40:31Z, It just ...</td>\n    </tr>\n    <tr>\n      <th>4</th>\n      <td>1554</td>\n      <td>Can you support the OpenHarmony JavaScript ver...</td>\n      <td>I am developing an OpenHarmony application wit...</td>\n      <td>DoraCoder</td>\n      <td>2022-08-17T08:52:38Z</td>\n      <td>2022-08-17T12:05:37Z</td>\n      <td>2022-08-17T12:05:37Z</td>\n      <td>[(1554, srowen, 2022-08-17T12:05:37Z, No there...</td>\n    </tr>\n  </tbody>\n</table>\n</div>"
     },
     "execution_count": 8,
     "metadata": {},
     "output_type": "execute_result"
    }
   ],
   "source": [
    "import shutil\n",
    "\n",
    "\n",
    "class ExtractedIssue(NamedTuple):\n",
    "    id: int\n",
    "    title: str\n",
    "    desc: str\n",
    "    author: str\n",
    "\n",
    "    # Dates\n",
    "    opened: str\n",
    "    modified: str\n",
    "    closed: str | None\n",
    "\n",
    "    comments: list[ExtractedComment]\n",
    "\n",
    "\n",
    "class ExtractedComment(NamedTuple):\n",
    "    issue: int\n",
    "    author: str\n",
    "    date: str\n",
    "    text: str\n",
    "\n",
    "\n",
    "def issue_extract(repo: str) -> list[ExtractedIssue]:\n",
    "    \"\"\"\n",
    "    From raw GitHub data, collect title, description, author, open/close time, and comments of issues\n",
    "\n",
    "    :param repo: GitHub repo in the format of \"owner/repo\"\n",
    "    \"\"\"\n",
    "    issues = json.loads(DIR_REPO_ISSUES(repo).read_text('utf-8'))\n",
    "    comments = {i['number']: DIR_REPO_ISSUE_COMMENTS(repo, i['number']) for i in issues}\n",
    "    comments = {id: json.loads(path.read_text('utf-8')) if path.is_file() else [] for id, path in comments.items()}\n",
    "    comments = {id: [ExtractedComment(id, c['user']['login'], c['created_at'], c['body']) for c in cs] for id, cs in comments.items()}\n",
    "    issues = [ExtractedIssue(int(i['number']), i['title'], i['body'], i['user']['login'], i['created_at'], i['updated_at'], i['closed_at'], comments[i['number']])\n",
    "              for i in issues]\n",
    "    return issues\n",
    "\n",
    "\n",
    "# Test issue extractor\n",
    "pd.DataFrame(issue_extract('zxing/zxing'))[:5]"
   ],
   "metadata": {
    "collapsed": false,
    "pycharm": {
     "name": "#%%\n"
    }
   }
  },
  {
   "cell_type": "markdown",
   "source": [
    "### 2.2. Commit Extractor (Gathering New Data)\n",
    "\n",
    "Also collects strings.xml"
   ],
   "metadata": {
    "collapsed": false,
    "pycharm": {
     "name": "#%% md\n"
    }
   }
  },
  {
   "cell_type": "code",
   "execution_count": 9,
   "outputs": [
    {
     "data": {
      "text/plain": "                                        sha          author  \\\n0  45df47022794eedcffd7e4409200100be5b8e631       Sean Owen   \n1  2369986a0d97d626c2e453b7e3e8a2d2a6a04cff  Daniel Gredler   \n2  8ecde0088f521579616b7ec6ebad5aeb3eaa03b2  Daniel Gredler   \n3  5231442ebc14ae7f1eb6d916983705b682d1bf96       Sean Owen   \n4  78c2a9c4401e166be22ba1483cc1c7d090bdf8b8       Sean Owen   \n\n                      email                       time  \\\n0          srowen@gmail.com  2022-07-20T13:29:55-05:00   \n1  daniel.gredler@gmail.com  2022-07-19T19:36:01-04:00   \n2  daniel.gredler@gmail.com  2022-07-19T19:12:52-04:00   \n3          srowen@gmail.com  2022-07-06T13:16:34-05:00   \n4          srowen@gmail.com  2022-07-05T18:34:45-05:00   \n\n                                             message  \\\n0  Add basic support for thread interruption, and...   \n1   Add description for OkapiBarcode project (#1545)   \n2  Fix Maxicode decoding of CR (carriage return);...   \n3                            Misc dependency updates   \n4  In multi QR code finder, only consider multipl...   \n\n                                          file_names  \n0  [M/core/src/main/java/com/google/zxing/MultiFo...  \n1                                      [M/README.md]  \n2  [M/core/src/main/java/com/google/zxing/maxicod...  \n3  [M/core/pom.xml, M/core/src/main/java/com/goog...  \n4  [M/core/src/main/java/com/google/zxing/multi/q...  ",
      "text/html": "<div>\n<style scoped>\n    .dataframe tbody tr th:only-of-type {\n        vertical-align: middle;\n    }\n\n    .dataframe tbody tr th {\n        vertical-align: top;\n    }\n\n    .dataframe thead th {\n        text-align: right;\n    }\n</style>\n<table border=\"1\" class=\"dataframe\">\n  <thead>\n    <tr style=\"text-align: right;\">\n      <th></th>\n      <th>sha</th>\n      <th>author</th>\n      <th>email</th>\n      <th>time</th>\n      <th>message</th>\n      <th>file_names</th>\n    </tr>\n  </thead>\n  <tbody>\n    <tr>\n      <th>0</th>\n      <td>45df47022794eedcffd7e4409200100be5b8e631</td>\n      <td>Sean Owen</td>\n      <td>srowen@gmail.com</td>\n      <td>2022-07-20T13:29:55-05:00</td>\n      <td>Add basic support for thread interruption, and...</td>\n      <td>[M/core/src/main/java/com/google/zxing/MultiFo...</td>\n    </tr>\n    <tr>\n      <th>1</th>\n      <td>2369986a0d97d626c2e453b7e3e8a2d2a6a04cff</td>\n      <td>Daniel Gredler</td>\n      <td>daniel.gredler@gmail.com</td>\n      <td>2022-07-19T19:36:01-04:00</td>\n      <td>Add description for OkapiBarcode project (#1545)</td>\n      <td>[M/README.md]</td>\n    </tr>\n    <tr>\n      <th>2</th>\n      <td>8ecde0088f521579616b7ec6ebad5aeb3eaa03b2</td>\n      <td>Daniel Gredler</td>\n      <td>daniel.gredler@gmail.com</td>\n      <td>2022-07-19T19:12:52-04:00</td>\n      <td>Fix Maxicode decoding of CR (carriage return);...</td>\n      <td>[M/core/src/main/java/com/google/zxing/maxicod...</td>\n    </tr>\n    <tr>\n      <th>3</th>\n      <td>5231442ebc14ae7f1eb6d916983705b682d1bf96</td>\n      <td>Sean Owen</td>\n      <td>srowen@gmail.com</td>\n      <td>2022-07-06T13:16:34-05:00</td>\n      <td>Misc dependency updates</td>\n      <td>[M/core/pom.xml, M/core/src/main/java/com/goog...</td>\n    </tr>\n    <tr>\n      <th>4</th>\n      <td>78c2a9c4401e166be22ba1483cc1c7d090bdf8b8</td>\n      <td>Sean Owen</td>\n      <td>srowen@gmail.com</td>\n      <td>2022-07-05T18:34:45-05:00</td>\n      <td>In multi QR code finder, only consider multipl...</td>\n      <td>[M/core/src/main/java/com/google/zxing/multi/q...</td>\n    </tr>\n  </tbody>\n</table>\n</div>"
     },
     "execution_count": 9,
     "metadata": {},
     "output_type": "execute_result"
    }
   ],
   "source": [
    "class ExtractedCommit(NamedTuple):\n",
    "    sha: str\n",
    "    author: str\n",
    "    email: str\n",
    "    time: str\n",
    "    message: str\n",
    "    file_names: list[str]\n",
    "\n",
    "    def get_time(self) -> datetime:\n",
    "        return dateutil.parser.isoparse(self.time)\n",
    "\n",
    "\n",
    "def git_log(path: Path) -> list[ExtractedCommit]:\n",
    "    \"\"\"\n",
    "    Call and parse git log. This function requires that git>=2.37.1 is installed on your system.\n",
    "\n",
    "    :param path: Path of git repository\n",
    "    :return: List of commits\n",
    "    \"\"\"\n",
    "    # check_call(shlex.split('git config diff.renames 0'))\n",
    "    cmd = f\"git -c 'diff.renamelimit=0' -c 'diff.renames=0' -C '{path.absolute()}' log --name-status --diff-filter=AMD --pretty=format:'START_COMMIT_QwQ %H%n%aN%n%aE%n%aI%n%s%n'\"\n",
    "    log = check_output(shlex.split(cmd)).decode('utf-8', 'ignore')\n",
    "\n",
    "    def extract_commit(block: str) -> ExtractedCommit:\n",
    "        try:\n",
    "            lines = block.split('\\n')\n",
    "            sha, author, email, date, message = lines + [\"\"] if len(lines) == 4 else lines[:5]\n",
    "            files = [f.replace('\\t', '/') for f in lines[6:]]\n",
    "            return ExtractedCommit(sha, author, email, date, message, files)\n",
    "        except Exception as e:\n",
    "            print(f'========== Commit Extract Error {e} ==========\\n{block}\\n==========')\n",
    "\n",
    "    return [extract_commit(c.strip()) for c in log.split('START_COMMIT_QwQ') if c]\n",
    "\n",
    "\n",
    "def find(name: str, path: Path) -> Path:\n",
    "    for root, dirs, files in os.walk(path):\n",
    "        if name in files:\n",
    "            return Path(root, name)\n",
    "\n",
    "\n",
    "def commit_collect(repo: str, verbose: bool = False) -> list[ExtractedCommit]:\n",
    "    \"\"\"\n",
    "    Extract commits from GitHub repo, collect sha, time, file names, author, message\n",
    "\n",
    "    Also extracts strings.xml for GUI terms exclusion.\n",
    "    Also counts the number of lines of java code.\n",
    "\n",
    "    :param repo:\n",
    "    :param verbose:\n",
    "    :return:\n",
    "    \"\"\"\n",
    "    out_path = DIR_REPO_COMMITS(repo)\n",
    "    strings_out = DIR_REPO_STRINGS_XML(repo)\n",
    "    strings_out.parent.mkdir(parents=True, exist_ok=True)\n",
    "    loc_out = DIR_REPO_LOC(repo)\n",
    "    loc_out.parent.mkdir(parents=True, exist_ok=True)\n",
    "\n",
    "    if out_path.is_file():\n",
    "        return [ExtractedCommit(*d) for d in json.loads(out_path.read_text('utf-8'))]\n",
    "\n",
    "    with tempfile.TemporaryDirectory() as tmp:\n",
    "        tmp = Path(tmp)\n",
    "\n",
    "        # tmp = Path(f'/tmp/github/{repo}')\n",
    "        # tmp.mkdir(parents=True, exist_ok=True)\n",
    "\n",
    "        # Clone repository\n",
    "        if verbose:\n",
    "            print(f'Cloning {repo} into {tmp}')\n",
    "        if not (tmp / '.git').is_dir():\n",
    "            check_call(shlex.split(f'git clone --quiet \"https://github.com/{repo}\" \"{tmp}\"'))\n",
    "\n",
    "        # Extract strings.xml\n",
    "        strings = find('strings.xml', tmp)\n",
    "        if strings is not None:\n",
    "            shutil.copyfile(strings, strings_out)\n",
    "\n",
    "        # Count lines of java code\n",
    "        java_files = [Path(root, f) for root, dirs, files in os.walk(tmp) for f in files if f.endswith('java')]\n",
    "        loc = sum(f.read_bytes().decode('utf-8', 'ignore').count('\\n') for f in java_files)\n",
    "        loc_out.write_text(str(loc))\n",
    "\n",
    "        # Get git log to json\n",
    "        commits = git_log(tmp)\n",
    "        out_path.parent.mkdir(parents=True, exist_ok=True)\n",
    "        out_path.write_text(json_stringify(commits), 'utf-8')\n",
    "        return commits\n",
    "\n",
    "\n",
    "# Test commit extract\n",
    "pd.DataFrame(commit_collect('zxing/zxing'))[:5]"
   ],
   "metadata": {
    "collapsed": false,
    "pycharm": {
     "name": "#%%\n"
    }
   }
  },
  {
   "cell_type": "markdown",
   "source": [
    "### 2.3. Download Commits for All Apps"
   ],
   "metadata": {
    "collapsed": false,
    "pycharm": {
     "name": "#%% md\n"
    }
   }
  },
  {
   "cell_type": "code",
   "execution_count": 10,
   "outputs": [
    {
     "name": "stderr",
     "output_type": "stream",
     "text": [
      "Caching commits...: 100%|██████████| 637/637 [00:10<00:00, 62.95it/s] \n"
     ]
    }
   ],
   "source": [
    "from hypy_utils.tqdm_utils import pmap\n",
    "\n",
    "_ = pmap(commit_collect, apps.values(), desc='Caching commits...')"
   ],
   "metadata": {
    "collapsed": false,
    "pycharm": {
     "name": "#%%\n"
    }
   }
  },
  {
   "cell_type": "markdown",
   "source": [
    "### 2.4. Preprocessing Commits & Issues"
   ],
   "metadata": {
    "collapsed": false,
    "pycharm": {
     "name": "#%% md\n"
    }
   }
  },
  {
   "cell_type": "code",
   "execution_count": 11,
   "outputs": [
    {
     "data": {
      "text/plain": "                                        sha  \\\n0  45df47022794eedcffd7e4409200100be5b8e631   \n1  2369986a0d97d626c2e453b7e3e8a2d2a6a04cff   \n2  8ecde0088f521579616b7ec6ebad5aeb3eaa03b2   \n3  5231442ebc14ae7f1eb6d916983705b682d1bf96   \n4  78c2a9c4401e166be22ba1483cc1c7d090bdf8b8   \n5  75dbbb00dd10a5f3683553e1d56b8209b9db48e2   \n6  78faea80583e6fc903bdb8c146e8ff499b60c307   \n7  c7a7b30f0497e01bed97fd465e4645594ee35fda   \n8  83cdc82aa15feb819f7ee4906d473874fbf4c93a   \n9  3aa3832840af45083a10ee6a9247c4f82988d120   \n\n                                           processed  \n0  add basic interrupt add protect run request we...  \n1       add descript okapi barcod project 1545 readm  \n2  fix maxicod decod cr carriag fix 1543 1544 dec...  \n3  misc depend updat pom bit matrix eci string bu...  \n4  in multi qr code finder consid multipli center...  \n5               micro optim to help high level encod  \n6  prevent encod empti pdf417 1523 pd f417 high l...  \n7  add orient pdf417 barcod to result metadata 15...  \n8  updat queri mobil web page add integr to sure ...  \n9               readm md descript nu book 1521 readm  ",
      "text/html": "<div>\n<style scoped>\n    .dataframe tbody tr th:only-of-type {\n        vertical-align: middle;\n    }\n\n    .dataframe tbody tr th {\n        vertical-align: top;\n    }\n\n    .dataframe thead th {\n        text-align: right;\n    }\n</style>\n<table border=\"1\" class=\"dataframe\">\n  <thead>\n    <tr style=\"text-align: right;\">\n      <th></th>\n      <th>sha</th>\n      <th>processed</th>\n    </tr>\n  </thead>\n  <tbody>\n    <tr>\n      <th>0</th>\n      <td>45df47022794eedcffd7e4409200100be5b8e631</td>\n      <td>add basic interrupt add protect run request we...</td>\n    </tr>\n    <tr>\n      <th>1</th>\n      <td>2369986a0d97d626c2e453b7e3e8a2d2a6a04cff</td>\n      <td>add descript okapi barcod project 1545 readm</td>\n    </tr>\n    <tr>\n      <th>2</th>\n      <td>8ecde0088f521579616b7ec6ebad5aeb3eaa03b2</td>\n      <td>fix maxicod decod cr carriag fix 1543 1544 dec...</td>\n    </tr>\n    <tr>\n      <th>3</th>\n      <td>5231442ebc14ae7f1eb6d916983705b682d1bf96</td>\n      <td>misc depend updat pom bit matrix eci string bu...</td>\n    </tr>\n    <tr>\n      <th>4</th>\n      <td>78c2a9c4401e166be22ba1483cc1c7d090bdf8b8</td>\n      <td>in multi qr code finder consid multipli center...</td>\n    </tr>\n    <tr>\n      <th>5</th>\n      <td>75dbbb00dd10a5f3683553e1d56b8209b9db48e2</td>\n      <td>micro optim to help high level encod</td>\n    </tr>\n    <tr>\n      <th>6</th>\n      <td>78faea80583e6fc903bdb8c146e8ff499b60c307</td>\n      <td>prevent encod empti pdf417 1523 pd f417 high l...</td>\n    </tr>\n    <tr>\n      <th>7</th>\n      <td>c7a7b30f0497e01bed97fd465e4645594ee35fda</td>\n      <td>add orient pdf417 barcod to result metadata 15...</td>\n    </tr>\n    <tr>\n      <th>8</th>\n      <td>83cdc82aa15feb819f7ee4906d473874fbf4c93a</td>\n      <td>updat queri mobil web page add integr to sure ...</td>\n    </tr>\n    <tr>\n      <th>9</th>\n      <td>3aa3832840af45083a10ee6a9247c4f82988d120</td>\n      <td>readm md descript nu book 1521 readm</td>\n    </tr>\n  </tbody>\n</table>\n</div>"
     },
     "execution_count": 11,
     "metadata": {},
     "output_type": "execute_result"
    }
   ],
   "source": [
    "import string\n",
    "from hypy_utils.nlp_utils import camel_split\n",
    "from nltk.stem import PorterStemmer\n",
    "\n",
    "\n",
    "STOPWORDS = {w.lower() for w in set(Path('other_data/p4-stopwords.txt').read_text('utf-8').splitlines())\\\n",
    "    .union(stopwords.words('english'))}\n",
    "STEMMER = PorterStemmer()\n",
    "\n",
    "\n",
    "def gui_keywords(repo: str) -> set[str]:\n",
    "    \"\"\"\n",
    "    Get the set of GUI-keywords from strings.xml\n",
    "    \"\"\"\n",
    "    strings_xml = DIR_REPO_STRINGS_XML(repo)\n",
    "\n",
    "    if not strings_xml.is_file():\n",
    "        return set()\n",
    "\n",
    "    return {w.lower() for el in ET.parse(strings_xml).getroot().iter('string') for w in el.attrib['name'].split('_')}\n",
    "\n",
    "\n",
    "def process_text(text: str, stop: set[str]) -> str:\n",
    "    \"\"\"\n",
    "    Camel case splitting, underscore splitting, stopword removal, stem\n",
    "\n",
    "    :param text: Original text\n",
    "    :param stop: Stopword set to use\n",
    "    :return: Processed text\n",
    "    \"\"\"\n",
    "    # Remove links\n",
    "    text = ' '.join(t for t in text.split(' ') if not (t.startswith('http://') or t.startswith('https://')))\n",
    "\n",
    "    # Remove punctuations (replace punctuations with spaces)\n",
    "    text = ''.join(c if c not in string.punctuation else ' ' for c in text)\n",
    "    while '  ' in text:\n",
    "        text = text.replace('  ', ' ')\n",
    "\n",
    "    # Tokenize\n",
    "    text = nltk.word_tokenize(text)\n",
    "\n",
    "    # Camel split\n",
    "    text = [s for w in text for s in camel_split(w)]\n",
    "\n",
    "    # Remove stopwords and stem\n",
    "    text = [STEMMER.stem(w) for w in text if w not in stop]\n",
    "\n",
    "    # Join\n",
    "    return ' '.join(text)\n",
    "\n",
    "\n",
    "def preprocess_issues(repo: str) -> dict[int, str]:\n",
    "    \"\"\"\n",
    "    Preprocess issues for repo\n",
    "\n",
    "    :param repo:\n",
    "    :return: dict[issue_id] = preprocessed issue text\n",
    "    \"\"\"\n",
    "    issues: list[ExtractedIssue] = issue_extract(repo)\n",
    "\n",
    "    # Combine title and body\n",
    "    issues: dict[int, str] = {i.id: f'{i.title} {i.desc}' for i in issues}\n",
    "\n",
    "    # Process text\n",
    "    issues = {id: process_text(text, STOPWORDS - gui_keywords(repo)) for id, text in issues.items()}\n",
    "\n",
    "    return issues\n",
    "\n",
    "\n",
    "def preprocess_commits(repo: str) -> dict[str, str]:\n",
    "    \"\"\"\n",
    "    Preprocess commits for repo\n",
    "\n",
    "    :param repo:\n",
    "    :return: dict[commit_hash] = preprocessed commit text\n",
    "    \"\"\"\n",
    "    commits: list[ExtractedCommit] = commit_collect(repo)\n",
    "\n",
    "    # Combine commit message with names modified (without extensions)\n",
    "    commits: dict[str, str] = {c.sha: c.message + ' ' + '  '.join(Path(f).stem for f in c.file_names) for c in commits}\n",
    "\n",
    "    # Process text\n",
    "    commits = {sha: process_text(text, STOPWORDS - gui_keywords(repo)) for sha, text in commits.items()}\n",
    "\n",
    "    return commits\n",
    "\n",
    "\n",
    "pd.DataFrame(preprocess_commits('zxing/zxing').items(), columns=['sha', 'processed'])[:10]"
   ],
   "metadata": {
    "collapsed": false,
    "pycharm": {
     "name": "#%%\n"
    }
   }
  },
  {
   "cell_type": "markdown",
   "source": [
    "### 2.5. Load Reviews Data"
   ],
   "metadata": {
    "collapsed": false,
    "pycharm": {
     "name": "#%% md\n"
    }
   }
  },
  {
   "cell_type": "code",
   "execution_count": 12,
   "outputs": [
    {
     "data": {
      "text/plain": "                                     id  score  \\\n0  b1fc6681-4f28-4c03-851e-3384c6d2dcbd      5   \n1  b1075cba-5348-47b8-b94d-ea6c0b9bbf2a      5   \n2  c1f6bf41-5d2e-4900-83ae-3f16d2d32710      5   \n3  6c856fdf-10b4-41f1-b456-003c6bdb56dd      5   \n4  1d014efe-b7d4-4052-a524-e971860d100e      1   \n5  9e119827-e4f9-4f39-8d95-caf8bb1c622d      5   \n6  f531887e-1ce5-4c67-b40d-e4f485fe1a04      5   \n7  17d6dc23-323a-40f8-bd12-97355b9bb474      5   \n8  a76bffa4-2e12-4a71-8a60-0ba10aa87924      1   \n9  0d959d21-9701-4adc-bc77-e5b97c055299      1   \n\n                                                text   version  \\\n0  I love this app this app solve my problem abou...  2.13.0.4   \n1                                          Excellent      None   \n2                          I Love this app! Love it!  2.13.0.4   \n3                                  LsabethDixon Save  2.13.0.4   \n4                                            Garbage      None   \n5                                               Best  2.12.9.3   \n6  Great for car / headphone pairing. Also reads ...  2.13.0.4   \n7  App is good for my stupid MIUI12 not memorizin...      None   \n8                                    Notthing worked      None   \n9  Does nothing. Unfriendly UI.No info, no help, ...  2.13.0.4   \n\n                       date  informative lang  \n0  2022-08-15T13:40:10.442Z         True   en  \n1  2022-06-21T20:11:42.723Z        False   de  \n2  2021-11-24T01:22:28.905Z        False   en  \n3  2021-10-21T16:47:37.307Z         True   en  \n4  2021-08-09T07:29:27.390Z         True   en  \n5  2021-04-15T10:57:46.540Z        False   en  \n6  2021-02-16T12:20:19.290Z        False   en  \n7  2020-12-20T21:23:43.183Z        False   en  \n8  2020-12-01T07:43:25.731Z         True   en  \n9  2020-11-09T20:30:29.165Z         True   en  ",
      "text/html": "<div>\n<style scoped>\n    .dataframe tbody tr th:only-of-type {\n        vertical-align: middle;\n    }\n\n    .dataframe tbody tr th {\n        vertical-align: top;\n    }\n\n    .dataframe thead th {\n        text-align: right;\n    }\n</style>\n<table border=\"1\" class=\"dataframe\">\n  <thead>\n    <tr style=\"text-align: right;\">\n      <th></th>\n      <th>id</th>\n      <th>score</th>\n      <th>text</th>\n      <th>version</th>\n      <th>date</th>\n      <th>informative</th>\n      <th>lang</th>\n    </tr>\n  </thead>\n  <tbody>\n    <tr>\n      <th>0</th>\n      <td>b1fc6681-4f28-4c03-851e-3384c6d2dcbd</td>\n      <td>5</td>\n      <td>I love this app this app solve my problem abou...</td>\n      <td>2.13.0.4</td>\n      <td>2022-08-15T13:40:10.442Z</td>\n      <td>True</td>\n      <td>en</td>\n    </tr>\n    <tr>\n      <th>1</th>\n      <td>b1075cba-5348-47b8-b94d-ea6c0b9bbf2a</td>\n      <td>5</td>\n      <td>Excellent</td>\n      <td>None</td>\n      <td>2022-06-21T20:11:42.723Z</td>\n      <td>False</td>\n      <td>de</td>\n    </tr>\n    <tr>\n      <th>2</th>\n      <td>c1f6bf41-5d2e-4900-83ae-3f16d2d32710</td>\n      <td>5</td>\n      <td>I Love this app! Love it!</td>\n      <td>2.13.0.4</td>\n      <td>2021-11-24T01:22:28.905Z</td>\n      <td>False</td>\n      <td>en</td>\n    </tr>\n    <tr>\n      <th>3</th>\n      <td>6c856fdf-10b4-41f1-b456-003c6bdb56dd</td>\n      <td>5</td>\n      <td>LsabethDixon Save</td>\n      <td>2.13.0.4</td>\n      <td>2021-10-21T16:47:37.307Z</td>\n      <td>True</td>\n      <td>en</td>\n    </tr>\n    <tr>\n      <th>4</th>\n      <td>1d014efe-b7d4-4052-a524-e971860d100e</td>\n      <td>1</td>\n      <td>Garbage</td>\n      <td>None</td>\n      <td>2021-08-09T07:29:27.390Z</td>\n      <td>True</td>\n      <td>en</td>\n    </tr>\n    <tr>\n      <th>5</th>\n      <td>9e119827-e4f9-4f39-8d95-caf8bb1c622d</td>\n      <td>5</td>\n      <td>Best</td>\n      <td>2.12.9.3</td>\n      <td>2021-04-15T10:57:46.540Z</td>\n      <td>False</td>\n      <td>en</td>\n    </tr>\n    <tr>\n      <th>6</th>\n      <td>f531887e-1ce5-4c67-b40d-e4f485fe1a04</td>\n      <td>5</td>\n      <td>Great for car / headphone pairing. Also reads ...</td>\n      <td>2.13.0.4</td>\n      <td>2021-02-16T12:20:19.290Z</td>\n      <td>False</td>\n      <td>en</td>\n    </tr>\n    <tr>\n      <th>7</th>\n      <td>17d6dc23-323a-40f8-bd12-97355b9bb474</td>\n      <td>5</td>\n      <td>App is good for my stupid MIUI12 not memorizin...</td>\n      <td>None</td>\n      <td>2020-12-20T21:23:43.183Z</td>\n      <td>False</td>\n      <td>en</td>\n    </tr>\n    <tr>\n      <th>8</th>\n      <td>a76bffa4-2e12-4a71-8a60-0ba10aa87924</td>\n      <td>1</td>\n      <td>Notthing worked</td>\n      <td>None</td>\n      <td>2020-12-01T07:43:25.731Z</td>\n      <td>True</td>\n      <td>en</td>\n    </tr>\n    <tr>\n      <th>9</th>\n      <td>0d959d21-9701-4adc-bc77-e5b97c055299</td>\n      <td>1</td>\n      <td>Does nothing. Unfriendly UI.No info, no help, ...</td>\n      <td>2.13.0.4</td>\n      <td>2020-11-09T20:30:29.165Z</td>\n      <td>True</td>\n      <td>en</td>\n    </tr>\n  </tbody>\n</table>\n</div>"
     },
     "execution_count": 12,
     "metadata": {},
     "output_type": "execute_result"
    }
   ],
   "source": [
    "class ExtractedReview(NamedTuple):\n",
    "    id: str\n",
    "    score: int\n",
    "    text: str\n",
    "    version: str\n",
    "    date: str\n",
    "\n",
    "    # Informativeness predicted by AR-Miner\n",
    "    informative: bool\n",
    "    # Language predicted by langid\n",
    "    lang: str\n",
    "\n",
    "\n",
    "def load_reviews(app: str) -> list[ExtractedReview]:\n",
    "    \"\"\"\n",
    "    Load reviews of an app\n",
    "\n",
    "    :param app: App package name\n",
    "    :return: Reviews\n",
    "    \"\"\"\n",
    "    return [ExtractedReview(*[r[k] for k in ['id', 'score', 'text', 'version', 'date', 'pred_informative', 'pred_language']])\n",
    "            for r in json.loads(DIR_APP_REVIEWS_PRED(app).read_text())]\n",
    "\n",
    "\n",
    "pd.DataFrame(load_reviews('a2dp.Vol')).sample(200).to_csv('informative_eval.csv', index=False)\n",
    "pd.DataFrame(load_reviews('a2dp.Vol'))[:10]"
   ],
   "metadata": {
    "collapsed": false,
    "pycharm": {
     "name": "#%%\n"
    }
   }
  },
  {
   "cell_type": "markdown",
   "source": [
    "# 3. Link Identifier\n",
    "\n",
    "## 3.1. Link Issue/Commit to Reviews\n",
    "\n",
    "Using Asymmetric Dice similarity"
   ],
   "metadata": {
    "collapsed": false,
    "pycharm": {
     "name": "#%% md\n"
    }
   }
  },
  {
   "cell_type": "code",
   "execution_count": 62,
   "outputs": [],
   "source": [
    "from typing import Callable\n",
    "from hypy_utils.tqdm_utils import pmap\n",
    "\n",
    "\n",
    "def date(iso_date: str) -> datetime:\n",
    "    \"\"\"\n",
    "    Convert iso date string to python datetime\n",
    "    \"\"\"\n",
    "    return dateutil.parser.isoparse(iso_date)\n",
    "\n",
    "\n",
    "def link_issues_to_reviews(app: str, reviews: list[ExtractedReview] | None = None, threshold: float = 0.3):\n",
    "    \"\"\"\n",
    "    Link issues and commits to reviews\n",
    "\n",
    "    :param reviews: List of reviews\n",
    "    :param app: App package name\n",
    "    :return:\n",
    "    \"\"\"\n",
    "    repo = apps[app]\n",
    "    reviews_defined = reviews is not None\n",
    "\n",
    "    out = Path(f'p4-processed/cir-links/{app}.json')\n",
    "    if not reviews_defined and out.is_file():\n",
    "        return json.loads(out.read_text())\n",
    "\n",
    "    gui_kw = gui_keywords(repo)\n",
    "    issues, commits = issue_extract(repo), commit_collect(repo)\n",
    "    proc_iss, proc_com = preprocess_issues(repo), preprocess_commits(repo)\n",
    "\n",
    "    # Get id, date, text only, and sort by date\n",
    "    proc_iss = sorted([(i.id, date(i.opened), set(proc_iss[i.id].split())) for i in issues], key=lambda x: x[1])\n",
    "    proc_com = sorted([(c.sha, date(c.time), set(proc_com[c.sha].split())) for c in commits], key=lambda x: x[1])\n",
    "\n",
    "    # def find_date_index(lst: list[tuple[str, datetime, set]], d: datetime):\n",
    "    #     for i in\n",
    "\n",
    "    # Load and filter reviews (informative and english reviews only)\n",
    "    if not reviews_defined:\n",
    "        reviews = [r for r in load_reviews(app) if r.informative and r.lang == 'en']\n",
    "\n",
    "    # Loop through all reviews\n",
    "    all_links = {}\n",
    "    # for review in tq(reviews, 'Running'):\n",
    "    for review in reviews:\n",
    "        review_words = set(process_text(review.text, STOPWORDS - gui_kw).split())\n",
    "        rd = date(review.date)\n",
    "\n",
    "        # Filter relevant issues (Issue must be opened after the review)\n",
    "        # TODO: Filter out issues before a release date\n",
    "        # TODO: Optimize with index splitting\n",
    "        rel_issues = {id: txt for id, time, txt in proc_iss if rd < time}\n",
    "        rel_commits = {sha: txt for sha, time, txt in proc_com if rd < time}\n",
    "\n",
    "        def identify_link(id: str, target_words: set[str]) -> str | None:\n",
    "            assert not isinstance(target_words, str), 'Error: target_words is str'\n",
    "            min_len = min(len(review_words), len(target_words))\n",
    "            if min_len == 0:\n",
    "                # print(f'Division by zero: {app} {review.id} {id}')\n",
    "                return None\n",
    "            text_sim = len(review_words.intersection(target_words)) / min_len\n",
    "\n",
    "            # GUI Bonus\n",
    "            gui_ir = gui_kw.intersection(review_words)\n",
    "            gui_is = gui_kw.intersection(target_words)\n",
    "            bonus = len(gui_ir.intersection(gui_is)) / len(review_words.union(target_words))\n",
    "\n",
    "            final_sim = text_sim * 0.5 + bonus * 0.5\n",
    "            if final_sim >= threshold and len(review_words) > 3:\n",
    "                return id\n",
    "\n",
    "            return None\n",
    "\n",
    "        def identify_links(issues_commits: dict[str, set[str]]) -> list[str]:\n",
    "            return [l for l in (identify_link(id, w) for id, w in issues_commits.items()) if l is not None]\n",
    "\n",
    "        # Identify links\n",
    "        all_links[review.id] = {\n",
    "            'text': review.text,\n",
    "            'issues': identify_links(rel_issues),\n",
    "            'commits': identify_links(rel_commits),\n",
    "        }\n",
    "\n",
    "    if not reviews_defined:\n",
    "        out.parent.mkdir(parents=True, exist_ok=True)\n",
    "        out.write_text(json.dumps(all_links))\n",
    "    return all_links\n",
    "\n",
    "\n",
    "# link_issues_to_reviews('com.google.zxing.client.android')\n",
    "# Multiprocessing\n",
    "# _ = pmap(link_issues_to_reviews, list(apps.keys()))"
   ],
   "metadata": {
    "collapsed": false,
    "pycharm": {
     "name": "#%%\n"
    }
   }
  },
  {
   "cell_type": "code",
   "execution_count": 32,
   "outputs": [
    {
     "name": "stdout",
     "output_type": "stream",
     "text": [
      "There are a total of 240645 reviews.\n",
      "72894 (30.3%) reviews linked with at least one issue\n",
      "25895 (10.8%) reviews linked with at least one commit\n",
      "19495 (8.1%) reviews linked with at least one issue and one commit\n",
      "Average number of issues linked (ignoring zeros): 20.4\n",
      "Average number of commits linked (ignoring zeros): 4.4\n"
     ]
    }
   ],
   "source": [
    "def link_stats():\n",
    "    # links = pmap(link_issues_to_reviews, list(apps.keys()))\n",
    "    links = [json.loads(Path(f'p4-processed/cir-links/{a}').read_text()) for a in os.listdir(f'p4-processed/cir-links')]\n",
    "    all_links = {}\n",
    "    for d in links:\n",
    "        all_links.update(d)\n",
    "\n",
    "    total = len(all_links)\n",
    "\n",
    "    def percent(lst: list, msg: str):\n",
    "        print(f'{len(lst)} ({len(lst) / total * 100:.1f}%) {msg}')\n",
    "\n",
    "    print(f'There are a total of {total} reviews.')\n",
    "    has_issues = [(r, d) for r, d in all_links.items() if d['issues']]\n",
    "    percent(has_issues, 'reviews linked with at least one issue')\n",
    "    has_commits = [(r, d) for r, d in all_links.items() if d['commits']]\n",
    "    percent(has_commits, 'reviews linked with at least one commit')\n",
    "    has_commits = [(r, d) for r, d in all_links.items() if d['commits'] and d['issues']]\n",
    "    percent(has_commits, 'reviews linked with at least one issue and one commit')\n",
    "    print(f'Average number of issues linked (ignoring zeros): {sum(len(d[\"issues\"]) for r, d in has_issues) / len(has_issues):.1f}')\n",
    "    print(f'Average number of commits linked (ignoring zeros): {sum(len(d[\"commits\"]) for r, d in has_commits) / len(has_commits):.1f}')\n",
    "\n",
    "\n",
    "link_stats()"
   ],
   "metadata": {
    "collapsed": false,
    "pycharm": {
     "name": "#%%\n"
    }
   }
  },
  {
   "cell_type": "markdown",
   "source": [
    "## 3.2. Linking Commits to Issues\n",
    "\n",
    "Using the ReLink approach by Wu et al. (2011)\n",
    "\n",
    "ReLink runs very slowly. If you want to rerun ReLink, you can download the ReLink and extract it to the bin folder.\n",
    "\n",
    "```\n",
    "bin\n",
    "└── relink\n",
    "    ├── ReLink.jar\n",
    "    ├── dictionary\n",
    "    │   └── dict\n",
    "    │       ├── adj.exc\n",
    "    │       ├── adv.exc\n",
    "    │       ├── cntlist\n",
    "    │       ├── cntlist.rev\n",
    "    │       ├── data.adj\n",
    "    │       ├── data.adv\n",
    "    │       ├── data.noun\n",
    "    │       ├── data.verb\n",
    "    │       ├── frames.vrb\n",
    "    │       ├── index.adj\n",
    "    │       ├── index.adv\n",
    "    │       ├── index.noun\n",
    "    │       ├── index.sense\n",
    "    │       ├── index.verb\n",
    "    │       ├── log.grind.2.1\n",
    "    │       ├── noun.exc\n",
    "    │       ├── sentidx.vrb\n",
    "    │       ├── sents.vrb\n",
    "    │       ├── verb.Framestext\n",
    "    │       └── verb.exc\n",
    "    ├── file_properties.xml\n",
    "    └── pattern.txt\n",
    "```\n",
    "\n",
    "For ReLink, we also need to set up Java"
   ],
   "metadata": {
    "collapsed": false,
    "pycharm": {
     "name": "#%% md\n"
    }
   }
  },
  {
   "cell_type": "code",
   "execution_count": 14,
   "outputs": [
    {
     "name": "stdout",
     "output_type": "stream",
     "text": [
      "openjdk 17.0.4.1 2022-08-12\r\n",
      "OpenJDK Runtime Environment (build 17.0.4.1+1)\r\n",
      "OpenJDK 64-Bit Server VM (build 17.0.4.1+1, mixed mode)\r\n"
     ]
    }
   ],
   "source": [
    "!java --version"
   ],
   "metadata": {
    "collapsed": false,
    "pycharm": {
     "name": "#%%\n"
    }
   }
  },
  {
   "cell_type": "code",
   "execution_count": 21,
   "outputs": [],
   "source": [
    "from hypy_utils.tqdm_utils import pmap\n",
    "\n",
    "\n",
    "RELINK_BIN = Path('./bin/relink')\n",
    "\n",
    "\n",
    "def timestamp(iso_date: str) -> int:\n",
    "    \"\"\"\n",
    "    Convert iso date string to java milliseconds timestamp for ReLink\n",
    "    \"\"\"\n",
    "    return int(dateutil.parser.isoparse(iso_date).timestamp() * 1000)\n",
    "\n",
    "\n",
    "def to_tsv(data: list[list[str]]) -> str:\n",
    "    \"\"\"\n",
    "    Convert list of tuples to ReLink readable tab-separated values text format\n",
    "    \"\"\"\n",
    "    return '\\n'.join(['\\t'.join([str(v).replace('\\t', ' ').replace('\\r', ' ').replace('\\n', ' ') for v in tup]) for tup in data])\n",
    "\n",
    "\n",
    "def relink_write_bug_data(repo: str, bug_data_path: Path, bug_comments_path: Path):\n",
    "    \"\"\"\n",
    "    Generate ReLink's BugData.txt (issues) input file and BugCommentData.txt (issue comments) input file.\n",
    "\n",
    "    As stated in ReLink's readme file:\n",
    "\n",
    "    > Bug-data file provides the basic bug information.\n",
    "    > The format of the file is: bugID, Type Status, Owner, Reporter, ReportDate, ModifiedDate, LastDate, Summary, Comments\n",
    "    > Bug-comment file provides the comments from the developers and the users.\n",
    "    > The format of the file is: bugID, developer, date, comment\n",
    "    \"\"\"\n",
    "    issues = issue_extract(repo)\n",
    "    fields = [(i.id, 'Defect', 'Fixed', i.author, i.author, timestamp(i.opened), timestamp(i.modified), timestamp(i.closed), i.title, i.desc, '',\n",
    "               *(c.author for c in i.comments))\n",
    "              for i in issues if i.closed]\n",
    "    bug_data_path.write_text(to_tsv(fields))\n",
    "    comments = [(i.id, c.author, timestamp(c.date), c.text) for i in issues for c in i.comments if i.closed]\n",
    "    bug_comments_path.write_text(to_tsv(comments))\n",
    "\n",
    "\n",
    "def relink_write_changelogs(repo: str, changelog_path: Path):\n",
    "    \"\"\"\n",
    "    Generate ReLink's changeLogs.txt (commits) input file.\n",
    "\n",
    "    As stated in ReLink's readme file:\n",
    "\n",
    "    > Change-log file provides the basic change log information.\n",
    "    > The format of the file is: revisionNo, date, Author, Message\n",
    "\n",
    "    However, in the example file, the format is: revisionNo, date, author, message + files, message\n",
    "    \"\"\"\n",
    "    commits = commit_collect(repo)\n",
    "\n",
    "    def transform_file(file: str):\n",
    "        for short, full in [('A/', 'Added : '), ('M/', 'Modified : '), ('D/', 'Deleted : ')]:\n",
    "            if file.startswith(short):\n",
    "                return f'{full}{file[len(short):]}'\n",
    "        print(f'Error parsing {file}')\n",
    "        return file\n",
    "\n",
    "    fields = [(i, timestamp(c.time), c.author, c.message + ' ' + ' '.join(transform_file(f) for f in c.file_names), c.message)\n",
    "              for i, c in enumerate(commits)]\n",
    "    changelog_path.write_text(to_tsv(fields))\n",
    "\n",
    "\n",
    "def relink_run(repo: str):\n",
    "    with tempfile.TemporaryDirectory() as tmp:\n",
    "        tmp = Path(tmp)\n",
    "\n",
    "        tmp = Path(f'/tmp/relink/{repo}')\n",
    "        tmp.mkdir(parents=True, exist_ok=True)\n",
    "\n",
    "        # Create output path\n",
    "        out_path = Path(f'./p4-processed/relink/{repo}').absolute()\n",
    "        out_path.mkdir(parents=True, exist_ok=True)\n",
    "        if not (out_path / \"links.txt\").is_file():\n",
    "            (out_path / \"links.txt\").write_text('')\n",
    "\n",
    "        # Ignore already processed items\n",
    "        if (out_path / 'index' / 'final_results.txt').is_file():\n",
    "            print(f'Skipped {repo}')\n",
    "            return\n",
    "\n",
    "        # Create data files\n",
    "        bug_data = tmp / 'BugData.txt'\n",
    "        bug_comment = tmp / 'BugCommentData.txt'\n",
    "        relink_write_bug_data(repo, bug_data, bug_comment)\n",
    "\n",
    "        changelog = tmp / 'changeLogs.txt'\n",
    "        relink_write_changelogs(repo, changelog)\n",
    "\n",
    "        # Run relink\n",
    "        log = (out_path / 'logs.txt').open('a')\n",
    "        cmd = f'java -jar \"{tmp}/relink/ReLink.jar\" {bug_data} {bug_comment} {changelog} {out_path / \"index\"} -g {out_path / \"links.txt\"}'\n",
    "        log.write(cmd + '\\n\\n')\n",
    "        if not os.path.islink(tmp / 'relink'):\n",
    "            check_call(shlex.split(f'ln -sf {RELINK_BIN.absolute()} {tmp}/relink'), cwd=tmp, stdout=log, stderr=log)\n",
    "        check_call(shlex.split(cmd), cwd=tmp / 'relink', stdout=log, stderr=log)\n",
    "\n",
    "\n",
    "# relink_run('zxing/zxing')\n",
    "\n",
    "# Multiprocessing\n",
    "# pmap(relink_run, list(apps.values()), desc='Running Relink', unit=\"apps\")"
   ],
   "metadata": {
    "collapsed": false,
    "pycharm": {
     "name": "#%%\n"
    }
   }
  },
  {
   "cell_type": "markdown",
   "source": [
    "# RQ1 - CRISTAL Linking Accuracy"
   ],
   "metadata": {
    "collapsed": false,
    "pycharm": {
     "name": "#%% md\n"
    }
   }
  },
  {
   "cell_type": "markdown",
   "source": [
    "### Table Generation\n",
    "\n",
    "#### Table 1: List of apps used for manual evaluation"
   ],
   "metadata": {
    "collapsed": false,
    "pycharm": {
     "name": "#%% md\n"
    }
   }
  },
  {
   "cell_type": "code",
   "execution_count": 18,
   "outputs": [],
   "source": [
    "from hypy_utils.tqdm_utils import tq\n",
    "import io\n",
    "import requests\n",
    "import zipfile\n",
    "\n",
    "\n",
    "def get_f_droid_index() -> dict[str, dict]:\n",
    "    \"\"\"\n",
    "    Get F-Droid Index\n",
    "    \"\"\"\n",
    "    buf = requests.get('https://f-droid.org/repo/index-v1.jar').content\n",
    "    j = zipfile.ZipFile(io.BytesIO(buf)).read('index-v1.json')\n",
    "    lst = json.loads(j)['apps']\n",
    "    return {a['packageName']: a for a in lst}"
   ],
   "metadata": {
    "collapsed": false,
    "pycharm": {
     "name": "#%%\n"
    }
   }
  },
  {
   "cell_type": "code",
   "execution_count": 19,
   "outputs": [
    {
     "name": "stderr",
     "output_type": "stream",
     "text": [
      "100%|██████████| 637/637 [00:00<00:00, 5409.74it/s]\n"
     ]
    }
   ],
   "source": [
    "from bs4 import BeautifulSoup\n",
    "from hypy_utils.tqdm_utils import pmap\n",
    "\n",
    "\n",
    "class AppRelease(NamedTuple):\n",
    "    ver: str\n",
    "    ver_num: int\n",
    "    date: str\n",
    "\n",
    "\n",
    "def crawl_release_dates(pkg: str) -> list[AppRelease]:\n",
    "    out_path = DIR_APP_RELEASES(pkg)\n",
    "    if out_path.is_file():\n",
    "        return [AppRelease(*e) for e in json.loads(out_path.read_text())]\n",
    "\n",
    "    html = requests.get(f'https://f-droid.org/en/packages/{pkg}').text\n",
    "    soup = BeautifulSoup(html)\n",
    "    releases = []\n",
    "    for version in soup.select('.package-version'):\n",
    "        version_block = version.select_one('.package-version-header')\n",
    "        ver, ver_num = [a.attrs['name'] for a in version_block.select('a')]\n",
    "        date = version_block.text.split('Added on')[1].strip()\n",
    "        releases.append(AppRelease(ver, int(ver_num), date))\n",
    "\n",
    "    out_path.parent.mkdir(parents=True, exist_ok=True)\n",
    "    out_path.write_text(json.dumps(releases))\n",
    "\n",
    "    return releases\n",
    "\n",
    "\n",
    "_ = pmap(crawl_release_dates, list(apps.keys()))"
   ],
   "metadata": {
    "collapsed": false,
    "pycharm": {
     "name": "#%%\n"
    }
   }
  },
  {
   "cell_type": "code",
   "execution_count": 48,
   "outputs": [
    {
     "name": "stdout",
     "output_type": "stream",
     "text": [
      "9\n"
     ]
    },
    {
     "name": "stderr",
     "output_type": "stream",
     "text": [
      "Generating table 1...: 100%|██████████| 9/9 [00:08<00:00,  1.03it/s]\n"
     ]
    },
    {
     "data": {
      "text/plain": "                         name         latest             time-interval  kloc  \\\n0                     AFWall+          3.5.3  2021-05-25 to 2022-07-03    32   \n1                   AnkiDroid         2.15.6  2021-06-07 to 2021-07-20    31   \n2                  AntennaPod          2.6.2  2022-07-12 to 2022-08-07    68   \n3             Barcode Scanner          4.7.8  2017-11-14 to 2018-09-20    72   \n4  Element - Secure Messenger         1.4.32  2022-07-03 to 2022-08-15     4   \n5                    K-9 Mail          6.301  2022-07-19 to 2022-08-11    71   \n6              Librera Reader  8.5.45-fdroid  2022-07-24 to 2022-08-19   229   \n7                    ownCloud         2.21.1  2022-05-18 to 2022-06-20    31   \n8                     Twidere          4.1.8  2021-03-17 to 2021-04-26    52   \n\n  reviews (informative) commits (relevant) issues (relevant)  \n0               39 (23)          1668 (47)         1152 (88)  \n1             559 (119)       13401 (3106)      12165 (3092)  \n2               36 (12)           5965 (3)         6017 (75)  \n3             621 (242)         3576 (265)        1505 (610)  \n4               24 (13)        14660 (332)        6908 (499)  \n5               42 (27)         9319 (125)         6210 (88)  \n6                 7 (2)           3769 (4)          889 (21)  \n7                 6 (3)          8591 (49)         3727 (68)  \n8                15 (9)           3061 (7)         1450 (30)  ",
      "text/html": "<div>\n<style scoped>\n    .dataframe tbody tr th:only-of-type {\n        vertical-align: middle;\n    }\n\n    .dataframe tbody tr th {\n        vertical-align: top;\n    }\n\n    .dataframe thead th {\n        text-align: right;\n    }\n</style>\n<table border=\"1\" class=\"dataframe\">\n  <thead>\n    <tr style=\"text-align: right;\">\n      <th></th>\n      <th>name</th>\n      <th>latest</th>\n      <th>time-interval</th>\n      <th>kloc</th>\n      <th>reviews (informative)</th>\n      <th>commits (relevant)</th>\n      <th>issues (relevant)</th>\n    </tr>\n  </thead>\n  <tbody>\n    <tr>\n      <th>0</th>\n      <td>AFWall+</td>\n      <td>3.5.3</td>\n      <td>2021-05-25 to 2022-07-03</td>\n      <td>32</td>\n      <td>39 (23)</td>\n      <td>1668 (47)</td>\n      <td>1152 (88)</td>\n    </tr>\n    <tr>\n      <th>1</th>\n      <td>AnkiDroid</td>\n      <td>2.15.6</td>\n      <td>2021-06-07 to 2021-07-20</td>\n      <td>31</td>\n      <td>559 (119)</td>\n      <td>13401 (3106)</td>\n      <td>12165 (3092)</td>\n    </tr>\n    <tr>\n      <th>2</th>\n      <td>AntennaPod</td>\n      <td>2.6.2</td>\n      <td>2022-07-12 to 2022-08-07</td>\n      <td>68</td>\n      <td>36 (12)</td>\n      <td>5965 (3)</td>\n      <td>6017 (75)</td>\n    </tr>\n    <tr>\n      <th>3</th>\n      <td>Barcode Scanner</td>\n      <td>4.7.8</td>\n      <td>2017-11-14 to 2018-09-20</td>\n      <td>72</td>\n      <td>621 (242)</td>\n      <td>3576 (265)</td>\n      <td>1505 (610)</td>\n    </tr>\n    <tr>\n      <th>4</th>\n      <td>Element - Secure Messenger</td>\n      <td>1.4.32</td>\n      <td>2022-07-03 to 2022-08-15</td>\n      <td>4</td>\n      <td>24 (13)</td>\n      <td>14660 (332)</td>\n      <td>6908 (499)</td>\n    </tr>\n    <tr>\n      <th>5</th>\n      <td>K-9 Mail</td>\n      <td>6.301</td>\n      <td>2022-07-19 to 2022-08-11</td>\n      <td>71</td>\n      <td>42 (27)</td>\n      <td>9319 (125)</td>\n      <td>6210 (88)</td>\n    </tr>\n    <tr>\n      <th>6</th>\n      <td>Librera Reader</td>\n      <td>8.5.45-fdroid</td>\n      <td>2022-07-24 to 2022-08-19</td>\n      <td>229</td>\n      <td>7 (2)</td>\n      <td>3769 (4)</td>\n      <td>889 (21)</td>\n    </tr>\n    <tr>\n      <th>7</th>\n      <td>ownCloud</td>\n      <td>2.21.1</td>\n      <td>2022-05-18 to 2022-06-20</td>\n      <td>31</td>\n      <td>6 (3)</td>\n      <td>8591 (49)</td>\n      <td>3727 (68)</td>\n    </tr>\n    <tr>\n      <th>8</th>\n      <td>Twidere</td>\n      <td>4.1.8</td>\n      <td>2021-03-17 to 2021-04-26</td>\n      <td>52</td>\n      <td>15 (9)</td>\n      <td>3061 (7)</td>\n      <td>1450 (30)</td>\n    </tr>\n  </tbody>\n</table>\n</div>"
     },
     "execution_count": 48,
     "metadata": {},
     "output_type": "execute_result"
    }
   ],
   "source": [
    "manual_app_names = {}\n",
    "\n",
    "\n",
    "def table_1(apps: list[tuple[str, str]]) -> pd.DataFrame:\n",
    "    \"\"\"\n",
    "    Table 1: List of apps used for manual evaluation\n",
    "\n",
    "    Includes name, version, kloc, number of reviews, number of commits, number of issues\n",
    "\n",
    "    :return: Table\n",
    "    \"\"\"\n",
    "    fd = get_f_droid_index()\n",
    "    apps = [(pkg, fd.get(pkg) or fd.get(pkg + '.foss'), repo)\n",
    "            for pkg, repo in apps if pkg in fd or pkg + '.foss' in fd]\n",
    "    table = []\n",
    "    for pkg, a, repo in tq(apps, 'Generating table 1...'):\n",
    "        releases = crawl_release_dates(pkg)\n",
    "        if len(releases) == 0:\n",
    "            releases = crawl_release_dates(pkg + '.foss')\n",
    "\n",
    "        latest: AppRelease = releases[0]\n",
    "        previous: AppRelease = releases[1]\n",
    "\n",
    "        # At least 20 days\n",
    "        if timestamp(latest.date) - timestamp(previous.date) < 1000 * 60 * 60 * 24 * 20:\n",
    "            previous = releases[2]\n",
    "\n",
    "        latest_ts = timestamp(latest.date)\n",
    "        previous_ts = timestamp(previous.date)\n",
    "\n",
    "        reviews = [r for r in load_reviews(pkg) if latest_ts > timestamp(r.date) > previous_ts]\n",
    "        informative = [r for r in reviews if r.informative]\n",
    "\n",
    "        commits = commit_collect(repo)\n",
    "        commits_relevant = [c for c in commits if timestamp(c.time) > previous_ts]\n",
    "        issues = issue_extract(repo)\n",
    "        issues_relevant = [i for i in issues if timestamp(i.opened) > previous_ts]\n",
    "\n",
    "        # Store manual evaluation sets\n",
    "        path = Path(f'p4-processed/manual_eval/{pkg}')\n",
    "        if not path.is_dir():\n",
    "            path.mkdir(parents=True, exist_ok=True)\n",
    "            pd.DataFrame(informative).to_csv(path / 'informative_reviews.csv')\n",
    "            pd.DataFrame(commits_relevant).to_csv(path / 'relevant_commits.csv')\n",
    "            pd.DataFrame(issues_relevant).to_csv(path / 'relevant_issues.csv')\n",
    "\n",
    "        name = (a['localized'].get('en-US') or next(iter(l for l in a['localized'].values() if 'name' in l), pkg))['name']\n",
    "        manual_app_names[pkg] = name\n",
    "\n",
    "        table.append({\n",
    "            'name': name,\n",
    "            'latest': f'{latest.ver}',\n",
    "            'time-interval': f'{previous.date} to {latest.date}',\n",
    "            'kloc': int(DIR_REPO_LOC(repo).read_text()) // 1000,\n",
    "            'reviews (informative)': f'{len(reviews)} ({len(informative)})',\n",
    "            'commits (relevant)': f'{len(commits)} ({len(commits_relevant)})',\n",
    "            'issues (relevant)': f'{len(issues)} ({len(issues_relevant)})'\n",
    "        })\n",
    "    return pd.DataFrame(table)\n",
    "\n",
    "\n",
    "manual_apps = ['dev.ukanth.ufirewall', 'de.danoeh.antennapod', 'com.fsck.k9', 'com.owncloud.android', 'org.mariotaku.twidere', 'com.foobnix.pro.pdf.reader', 'be.mygod.vpnhotspot', 'com.ichi2.anki', 'im.vector.app', 'com.google.zxing.client.android']\n",
    "manual_apps = [(a, r) for a, r in apps.items() if a in manual_apps]\n",
    "print(len(manual_apps))\n",
    "table_1(manual_apps)"
   ],
   "metadata": {
    "collapsed": false,
    "pycharm": {
     "name": "#%%\n"
    }
   }
  },
  {
   "cell_type": "markdown",
   "source": [],
   "metadata": {
    "collapsed": false,
    "pycharm": {
     "name": "#%% md\n"
    }
   }
  },
  {
   "cell_type": "markdown",
   "source": [
    "### Table 3: Recall, Precision, F1 when considering issues only"
   ],
   "metadata": {
    "collapsed": false,
    "pycharm": {
     "name": "#%% md\n"
    }
   }
  },
  {
   "cell_type": "code",
   "execution_count": 63,
   "outputs": [
    {
     "name": "stdout",
     "output_type": "stream",
     "text": [
      "Table 3: Accuracy achieved by CRISTAL when considering issues only\n"
     ]
    },
    {
     "name": "stderr",
     "output_type": "stream",
     "text": [
      "Generating table...: 100%|██████████| 9/9 [03:29<00:00, 23.25s/it]\n"
     ]
    },
    {
     "data": {
      "text/plain": "                          App  Traceable (Oracle)  #Links (Oracle)  \\\n0                     AFWall+           57.142857                4   \n1                   AnkiDroid           22.413793               13   \n2                  AntennaPod           72.727273                0   \n3             Barcode Scanner           17.316017                3   \n4  Element - Secure Messenger           56.250000                5   \n5                    K-9 Mail           68.965517               10   \n6              Librera Reader          100.000000                2   \n7                    ownCloud           33.333333                0   \n8                     Twidere           83.333333                2   \n9                       Total           56.831347               39   \n\n   Link Ratio  #TP  #FP  #FN  prec  recall   f1  \n0   33.333333    0    1    4   0.0     0.0  0.0  \n1   50.000000    0   14   13   0.0     0.0  0.0  \n2    0.000000    0    2    0   0.0     0.0  0.0  \n3    7.500000    0   66    3   0.0     0.0  0.0  \n4   55.555556    0    6    5   0.0     0.0  0.0  \n5   50.000000    0    0   10   0.0     0.0  0.0  \n6   50.000000    0    0    2   0.0     0.0  0.0  \n7    0.000000    0    0    0   0.0     0.0  0.0  \n8   40.000000    0    0    2   0.0     0.0  0.0  \n9   31.820988    0   89   39   0.0     0.0  0.0  ",
      "text/html": "<div>\n<style scoped>\n    .dataframe tbody tr th:only-of-type {\n        vertical-align: middle;\n    }\n\n    .dataframe tbody tr th {\n        vertical-align: top;\n    }\n\n    .dataframe thead th {\n        text-align: right;\n    }\n</style>\n<table border=\"1\" class=\"dataframe\">\n  <thead>\n    <tr style=\"text-align: right;\">\n      <th></th>\n      <th>App</th>\n      <th>Traceable (Oracle)</th>\n      <th>#Links (Oracle)</th>\n      <th>Link Ratio</th>\n      <th>#TP</th>\n      <th>#FP</th>\n      <th>#FN</th>\n      <th>prec</th>\n      <th>recall</th>\n      <th>f1</th>\n    </tr>\n  </thead>\n  <tbody>\n    <tr>\n      <th>0</th>\n      <td>AFWall+</td>\n      <td>57.142857</td>\n      <td>4</td>\n      <td>33.333333</td>\n      <td>0</td>\n      <td>1</td>\n      <td>4</td>\n      <td>0.0</td>\n      <td>0.0</td>\n      <td>0.0</td>\n    </tr>\n    <tr>\n      <th>1</th>\n      <td>AnkiDroid</td>\n      <td>22.413793</td>\n      <td>13</td>\n      <td>50.000000</td>\n      <td>0</td>\n      <td>14</td>\n      <td>13</td>\n      <td>0.0</td>\n      <td>0.0</td>\n      <td>0.0</td>\n    </tr>\n    <tr>\n      <th>2</th>\n      <td>AntennaPod</td>\n      <td>72.727273</td>\n      <td>0</td>\n      <td>0.000000</td>\n      <td>0</td>\n      <td>2</td>\n      <td>0</td>\n      <td>0.0</td>\n      <td>0.0</td>\n      <td>0.0</td>\n    </tr>\n    <tr>\n      <th>3</th>\n      <td>Barcode Scanner</td>\n      <td>17.316017</td>\n      <td>3</td>\n      <td>7.500000</td>\n      <td>0</td>\n      <td>66</td>\n      <td>3</td>\n      <td>0.0</td>\n      <td>0.0</td>\n      <td>0.0</td>\n    </tr>\n    <tr>\n      <th>4</th>\n      <td>Element - Secure Messenger</td>\n      <td>56.250000</td>\n      <td>5</td>\n      <td>55.555556</td>\n      <td>0</td>\n      <td>6</td>\n      <td>5</td>\n      <td>0.0</td>\n      <td>0.0</td>\n      <td>0.0</td>\n    </tr>\n    <tr>\n      <th>5</th>\n      <td>K-9 Mail</td>\n      <td>68.965517</td>\n      <td>10</td>\n      <td>50.000000</td>\n      <td>0</td>\n      <td>0</td>\n      <td>10</td>\n      <td>0.0</td>\n      <td>0.0</td>\n      <td>0.0</td>\n    </tr>\n    <tr>\n      <th>6</th>\n      <td>Librera Reader</td>\n      <td>100.000000</td>\n      <td>2</td>\n      <td>50.000000</td>\n      <td>0</td>\n      <td>0</td>\n      <td>2</td>\n      <td>0.0</td>\n      <td>0.0</td>\n      <td>0.0</td>\n    </tr>\n    <tr>\n      <th>7</th>\n      <td>ownCloud</td>\n      <td>33.333333</td>\n      <td>0</td>\n      <td>0.000000</td>\n      <td>0</td>\n      <td>0</td>\n      <td>0</td>\n      <td>0.0</td>\n      <td>0.0</td>\n      <td>0.0</td>\n    </tr>\n    <tr>\n      <th>8</th>\n      <td>Twidere</td>\n      <td>83.333333</td>\n      <td>2</td>\n      <td>40.000000</td>\n      <td>0</td>\n      <td>0</td>\n      <td>2</td>\n      <td>0.0</td>\n      <td>0.0</td>\n      <td>0.0</td>\n    </tr>\n    <tr>\n      <th>9</th>\n      <td>Total</td>\n      <td>56.831347</td>\n      <td>39</td>\n      <td>31.820988</td>\n      <td>0</td>\n      <td>89</td>\n      <td>39</td>\n      <td>0.0</td>\n      <td>0.0</td>\n      <td>0.0</td>\n    </tr>\n  </tbody>\n</table>\n</div>"
     },
     "execution_count": 63,
     "metadata": {},
     "output_type": "execute_result"
    }
   ],
   "source": [
    "import math\n",
    "\n",
    "\n",
    "def table_3_helper(args: tuple[str, str, str]) -> dict:\n",
    "    pkg, repo, attr = args\n",
    "    reviews = pd.read_csv(f'p4-processed/manual_eval/{pkg}/informative_reviews.csv')\n",
    "\n",
    "    # Filter manual reviews\n",
    "    filter = lambda r: None if (isinstance(r, float) and math.isnan(r)) or str(r).lower() == 'none' \\\n",
    "                else str(r).replace('.0', '').split(',')\n",
    "    reviews['linked_issues'] = [filter(r) for r in reviews['linked_issues']]\n",
    "    reviews['linked_commits'] = [filter(r) for r in reviews['linked_commits']]\n",
    "\n",
    "    # Load CRISTAL-linked issues\n",
    "    cristal_reviews = [ExtractedReview(*[r[k] for k in ['id', 'score', 'text', 'version', 'date']] + [True, 'en'])\n",
    "                       for r in reviews.to_dict('records') if isinstance(r['text'], str)]\n",
    "    cristal = link_issues_to_reviews(pkg, reviews=cristal_reviews, threshold=0.4)\n",
    "\n",
    "    # Filter out reviews that are not in CRISTAL's list\n",
    "    # print('===================')\n",
    "    # print(len(reviews))\n",
    "    reviews = reviews[reviews.id.isin(cristal)]\n",
    "    # print(len(reviews))\n",
    "    reviews['pred_issues'] = [cristal[r]['issues'] for r in reviews.id]\n",
    "    reviews['pred_commits'] = [cristal[r]['commits'] for r in reviews.id]\n",
    "\n",
    "    # Filter out non-traceable reviews\n",
    "    traceable_ratio = sum(reviews.is_traceable_issue) / len(reviews)\n",
    "    reviews = reviews[reviews.is_traceable_issue == 1]\n",
    "    # print(len(reviews))\n",
    "    links = sum(len(i) for i in reviews[f'linked_{attr}'] if i)\n",
    "\n",
    "    # Count true positives, false positives\n",
    "    # True positive: An issue/commit found by CRISTAL that's also found by manual evaluators\n",
    "    # False positive: An issue/commit found by CRISTAL that's not found by manual evaluators\n",
    "    # False negative: An issue/commit found by manual evaluators that's not found by CRISTAL\n",
    "    tp, fp, fn = 0, 0, 0\n",
    "    for i, r in reviews.iterrows():\n",
    "        linked = {str(v) for v in r[f'linked_{attr}'] or []}\n",
    "        pred = {str(v) for v in r[f'pred_{attr}'] or []}\n",
    "\n",
    "        tp += sum(iss in linked for iss in pred)\n",
    "        fp += len(pred) - tp\n",
    "        fn += sum(iss not in pred for iss in linked)\n",
    "\n",
    "    # Calculate precision, recall, f1\n",
    "    prec = tp / (tp + fp) if tp + fp != 0 else 0\n",
    "    rec = tp / (tp + fn) if tp + fn != 0 else 0\n",
    "    f1 = 2 * (prec * rec) / (prec + rec) if prec + rec != 0 else 0\n",
    "\n",
    "    return {\n",
    "        'App': manual_app_names[pkg],\n",
    "        'Traceable (Oracle)': traceable_ratio * 100,\n",
    "        '#Links (Oracle)': links,\n",
    "        'Link Ratio': links / len(reviews) * 100,\n",
    "        '#TP': tp,\n",
    "        '#FP': fp,\n",
    "        '#FN': fn,\n",
    "        'prec': prec * 100,\n",
    "        'recall': rec * 100,\n",
    "        'f1': f1 * 100,\n",
    "    }\n",
    "\n",
    "\n",
    "def table_3(apps: list[tuple[str, str]], attr: str):\n",
    "    \"\"\"\n",
    "    Generate tables 3, 4\n",
    "\n",
    "    :param apps: List of apps [package name, repo]\n",
    "    :param attr: Can be \"issues\" or \"commits\" - Only issues or only commits\n",
    "    :return: Table DataFrame\n",
    "    \"\"\"\n",
    "    table = pmap(table_3_helper, [(p, r, attr) for p, r in apps], desc='Generating table...')\n",
    "\n",
    "    df = pd.DataFrame(table)\n",
    "    # df.loc[\"Total\"] = df.sum(numeric_only=True)\n",
    "    table.append({\n",
    "        'App': 'Total',\n",
    "        'Traceable (Oracle)': df['Traceable (Oracle)'].mean(),\n",
    "        '#Links (Oracle)': df['#Links (Oracle)'].sum(),\n",
    "        'Link Ratio': df['Link Ratio'].mean(),\n",
    "        '#TP': df['#TP'].sum(),\n",
    "        '#FP': df['#FP'].sum(),\n",
    "        '#FN': df['#FN'].sum(),\n",
    "        'prec': df['prec'].mean(),\n",
    "        'recall': df['recall'].mean(),\n",
    "        'f1': df['f1'].mean(),\n",
    "    })\n",
    "    return pd.DataFrame(table)\n",
    "\n",
    "\n",
    "print('Table 3: Accuracy achieved by CRISTAL when considering issues only')\n",
    "table_3(manual_apps, 'issues')"
   ],
   "metadata": {
    "collapsed": false,
    "pycharm": {
     "name": "#%%\n"
    }
   }
  },
  {
   "cell_type": "markdown",
   "source": [
    "### Table 4: Recall, Precision, F1 when considering commits only\n",
    "\n",
    "One key difference is that, the manual evaluators found a lot (98) review-commit links in CRISTAL while our manual evaluators found very few (6) review-commit links. This is potentially due to differences in data."
   ],
   "metadata": {
    "collapsed": false,
    "pycharm": {
     "name": "#%% md\n"
    }
   }
  },
  {
   "cell_type": "code",
   "execution_count": 45,
   "outputs": [
    {
     "name": "stdout",
     "output_type": "stream",
     "text": [
      "Table 4: Accuracy achieved by CRISTAL when considering commits only\n"
     ]
    },
    {
     "name": "stderr",
     "output_type": "stream",
     "text": [
      "Generating table 3...: 100%|██████████| 9/9 [00:00<00:00, 42.38it/s]\n"
     ]
    },
    {
     "data": {
      "text/plain": "                          App  Traceable (Oracle)  #Links (Oracle)  \\\n0                     AFWall+           57.894737                0   \n1                   AnkiDroid           29.870130                1   \n2                  AntennaPod           80.000000                0   \n3             Barcode Scanner           21.348315                1   \n4  Element - Secure Messenger           58.333333                4   \n5                    K-9 Mail           66.666667                0   \n6              Librera Reader          100.000000                0   \n7                    ownCloud           33.333333                0   \n8                     Twidere           83.333333                0   \n9                       Total           58.975539                6   \n\n   Link Ratio  #TP  #FP  #FN  prec  recall   f1  \n0    0.000000    0    2    0   0.0     0.0  0.0  \n1    4.347826    0    7    1   0.0     0.0  0.0  \n2    0.000000    0    0    0   0.0     0.0  0.0  \n3    2.631579    0    8    1   0.0     0.0  0.0  \n4   57.142857    0    0    4   0.0     0.0  0.0  \n5    0.000000    0    0    0   0.0     0.0  0.0  \n6    0.000000    0    0    0   0.0     0.0  0.0  \n7    0.000000    0    0    0   0.0     0.0  0.0  \n8    0.000000    0    1    0   0.0     0.0  0.0  \n9    7.124696    0   18    6   0.0     0.0  0.0  ",
      "text/html": "<div>\n<style scoped>\n    .dataframe tbody tr th:only-of-type {\n        vertical-align: middle;\n    }\n\n    .dataframe tbody tr th {\n        vertical-align: top;\n    }\n\n    .dataframe thead th {\n        text-align: right;\n    }\n</style>\n<table border=\"1\" class=\"dataframe\">\n  <thead>\n    <tr style=\"text-align: right;\">\n      <th></th>\n      <th>App</th>\n      <th>Traceable (Oracle)</th>\n      <th>#Links (Oracle)</th>\n      <th>Link Ratio</th>\n      <th>#TP</th>\n      <th>#FP</th>\n      <th>#FN</th>\n      <th>prec</th>\n      <th>recall</th>\n      <th>f1</th>\n    </tr>\n  </thead>\n  <tbody>\n    <tr>\n      <th>0</th>\n      <td>AFWall+</td>\n      <td>57.894737</td>\n      <td>0</td>\n      <td>0.000000</td>\n      <td>0</td>\n      <td>2</td>\n      <td>0</td>\n      <td>0.0</td>\n      <td>0.0</td>\n      <td>0.0</td>\n    </tr>\n    <tr>\n      <th>1</th>\n      <td>AnkiDroid</td>\n      <td>29.870130</td>\n      <td>1</td>\n      <td>4.347826</td>\n      <td>0</td>\n      <td>7</td>\n      <td>1</td>\n      <td>0.0</td>\n      <td>0.0</td>\n      <td>0.0</td>\n    </tr>\n    <tr>\n      <th>2</th>\n      <td>AntennaPod</td>\n      <td>80.000000</td>\n      <td>0</td>\n      <td>0.000000</td>\n      <td>0</td>\n      <td>0</td>\n      <td>0</td>\n      <td>0.0</td>\n      <td>0.0</td>\n      <td>0.0</td>\n    </tr>\n    <tr>\n      <th>3</th>\n      <td>Barcode Scanner</td>\n      <td>21.348315</td>\n      <td>1</td>\n      <td>2.631579</td>\n      <td>0</td>\n      <td>8</td>\n      <td>1</td>\n      <td>0.0</td>\n      <td>0.0</td>\n      <td>0.0</td>\n    </tr>\n    <tr>\n      <th>4</th>\n      <td>Element - Secure Messenger</td>\n      <td>58.333333</td>\n      <td>4</td>\n      <td>57.142857</td>\n      <td>0</td>\n      <td>0</td>\n      <td>4</td>\n      <td>0.0</td>\n      <td>0.0</td>\n      <td>0.0</td>\n    </tr>\n    <tr>\n      <th>5</th>\n      <td>K-9 Mail</td>\n      <td>66.666667</td>\n      <td>0</td>\n      <td>0.000000</td>\n      <td>0</td>\n      <td>0</td>\n      <td>0</td>\n      <td>0.0</td>\n      <td>0.0</td>\n      <td>0.0</td>\n    </tr>\n    <tr>\n      <th>6</th>\n      <td>Librera Reader</td>\n      <td>100.000000</td>\n      <td>0</td>\n      <td>0.000000</td>\n      <td>0</td>\n      <td>0</td>\n      <td>0</td>\n      <td>0.0</td>\n      <td>0.0</td>\n      <td>0.0</td>\n    </tr>\n    <tr>\n      <th>7</th>\n      <td>ownCloud</td>\n      <td>33.333333</td>\n      <td>0</td>\n      <td>0.000000</td>\n      <td>0</td>\n      <td>0</td>\n      <td>0</td>\n      <td>0.0</td>\n      <td>0.0</td>\n      <td>0.0</td>\n    </tr>\n    <tr>\n      <th>8</th>\n      <td>Twidere</td>\n      <td>83.333333</td>\n      <td>0</td>\n      <td>0.000000</td>\n      <td>0</td>\n      <td>1</td>\n      <td>0</td>\n      <td>0.0</td>\n      <td>0.0</td>\n      <td>0.0</td>\n    </tr>\n    <tr>\n      <th>9</th>\n      <td>Total</td>\n      <td>58.975539</td>\n      <td>6</td>\n      <td>7.124696</td>\n      <td>0</td>\n      <td>18</td>\n      <td>6</td>\n      <td>0.0</td>\n      <td>0.0</td>\n      <td>0.0</td>\n    </tr>\n  </tbody>\n</table>\n</div>"
     },
     "execution_count": 45,
     "metadata": {},
     "output_type": "execute_result"
    }
   ],
   "source": [
    "print('Table 4: Accuracy achieved by CRISTAL when considering commits only')\n",
    "table_3(manual_apps, 'commits')"
   ],
   "metadata": {
    "collapsed": false,
    "pycharm": {
     "name": "#%%\n"
    }
   }
  },
  {
   "cell_type": "markdown",
   "source": [
    "# RQ2 - Measure Current Review Fulfillment\n",
    "\n",
    "\"To what extent do developers fulfill reviews when working on a new app release?\""
   ],
   "metadata": {
    "collapsed": false,
    "pycharm": {
     "name": "#%% md\n"
    }
   }
  },
  {
   "cell_type": "code",
   "execution_count": 46,
   "outputs": [
    {
     "name": "stderr",
     "output_type": "stream",
     "text": [
      "100%|██████████| 637/637 [00:01<00:00, 575.84it/s]\n"
     ]
    },
    {
     "name": "stdout",
     "output_type": "stream",
     "text": [
      "Avg rating change: -0.18157567697749127\n"
     ]
    }
   ],
   "source": [
    "import math\n",
    "import numpy as np\n",
    "import statistics\n",
    "\n",
    "\n",
    "def get_rating_change(pkg: str):\n",
    "    reviews = load_reviews(pkg)\n",
    "    releases = crawl_release_dates(pkg)\n",
    "\n",
    "    reviews = [(timestamp(r.date), r.score) for r in reviews]\n",
    "\n",
    "    if len(releases) == 0:\n",
    "        return math.nan\n",
    "\n",
    "    prev_date = timestamp(releases[1 if len(releases) >= 2 else 0].date)\n",
    "\n",
    "    try:\n",
    "        rating_curr = statistics.mean(r for d, r in reviews if d > prev_date)\n",
    "        rating_prev = statistics.mean(r for d, r in reviews if d <= prev_date)\n",
    "        return rating_curr - rating_prev\n",
    "\n",
    "    except statistics.StatisticsError:\n",
    "        return math.nan\n",
    "\n",
    "\n",
    "changes = np.array(pmap(get_rating_change, list(apps.keys())), dtype=float)\n",
    "print(f'Avg rating change: {np.nanmean(changes)}')"
   ],
   "metadata": {
    "collapsed": false,
    "pycharm": {
     "name": "#%%\n"
    }
   }
  },
  {
   "cell_type": "markdown",
   "source": [
    "### Table 6 - Selected App Statistics"
   ],
   "metadata": {
    "collapsed": false,
    "pycharm": {
     "name": "#%% md\n"
    }
   }
  },
  {
   "cell_type": "code",
   "execution_count": 18,
   "outputs": [
    {
     "name": "stderr",
     "output_type": "stream",
     "text": [
      "100%|██████████| 603/603 [00:06<00:00, 93.72it/s]\n"
     ]
    },
    {
     "data": {
      "text/plain": "               Category  Apps  Reviews  Informative      KLOC  Commits  Issues\n0                 Games    45   114391        81882   947.401   128357   59814\n1                System    77    75152        54507   527.666    43448   15639\n2   Science & Education    27    19114        12969   300.337    33535   19346\n3               Theming    19    27561        20123   124.879    13131    3577\n4                  Time    22    12386         9648   130.616    20453    4736\n5              Graphics     6      502          411    49.618     2199     995\n6            Multimedia    74   121911        87254   909.467   135417   54199\n7           Development    20    23322        13516   324.959    14501    7719\n8              Internet    91    99850        72138  3143.301   162116   87053\n9              Security    26    10600         8697   337.034    18848    7879\n10              Reading    28    53287        35745   731.701    71302   16475\n11              Writing    49    29953        23181  1347.262   102961   51367\n12           Navigation    30    48849        29827  2362.634   309097   57788\n13                Money    23    10319         7824   646.133    42156   11357\n14         Connectivity    37    17195        12664   624.878    56099   22222\n15      Sports & Health    18    15190        11559   251.939    18988    5270\n16          Phone & SMS    11    26943        21664   112.603    22411   17776",
      "text/html": "<div>\n<style scoped>\n    .dataframe tbody tr th:only-of-type {\n        vertical-align: middle;\n    }\n\n    .dataframe tbody tr th {\n        vertical-align: top;\n    }\n\n    .dataframe thead th {\n        text-align: right;\n    }\n</style>\n<table border=\"1\" class=\"dataframe\">\n  <thead>\n    <tr style=\"text-align: right;\">\n      <th></th>\n      <th>Category</th>\n      <th>Apps</th>\n      <th>Reviews</th>\n      <th>Informative</th>\n      <th>KLOC</th>\n      <th>Commits</th>\n      <th>Issues</th>\n    </tr>\n  </thead>\n  <tbody>\n    <tr>\n      <th>0</th>\n      <td>Games</td>\n      <td>45</td>\n      <td>114391</td>\n      <td>81882</td>\n      <td>947.401</td>\n      <td>128357</td>\n      <td>59814</td>\n    </tr>\n    <tr>\n      <th>1</th>\n      <td>System</td>\n      <td>77</td>\n      <td>75152</td>\n      <td>54507</td>\n      <td>527.666</td>\n      <td>43448</td>\n      <td>15639</td>\n    </tr>\n    <tr>\n      <th>2</th>\n      <td>Science &amp; Education</td>\n      <td>27</td>\n      <td>19114</td>\n      <td>12969</td>\n      <td>300.337</td>\n      <td>33535</td>\n      <td>19346</td>\n    </tr>\n    <tr>\n      <th>3</th>\n      <td>Theming</td>\n      <td>19</td>\n      <td>27561</td>\n      <td>20123</td>\n      <td>124.879</td>\n      <td>13131</td>\n      <td>3577</td>\n    </tr>\n    <tr>\n      <th>4</th>\n      <td>Time</td>\n      <td>22</td>\n      <td>12386</td>\n      <td>9648</td>\n      <td>130.616</td>\n      <td>20453</td>\n      <td>4736</td>\n    </tr>\n    <tr>\n      <th>5</th>\n      <td>Graphics</td>\n      <td>6</td>\n      <td>502</td>\n      <td>411</td>\n      <td>49.618</td>\n      <td>2199</td>\n      <td>995</td>\n    </tr>\n    <tr>\n      <th>6</th>\n      <td>Multimedia</td>\n      <td>74</td>\n      <td>121911</td>\n      <td>87254</td>\n      <td>909.467</td>\n      <td>135417</td>\n      <td>54199</td>\n    </tr>\n    <tr>\n      <th>7</th>\n      <td>Development</td>\n      <td>20</td>\n      <td>23322</td>\n      <td>13516</td>\n      <td>324.959</td>\n      <td>14501</td>\n      <td>7719</td>\n    </tr>\n    <tr>\n      <th>8</th>\n      <td>Internet</td>\n      <td>91</td>\n      <td>99850</td>\n      <td>72138</td>\n      <td>3143.301</td>\n      <td>162116</td>\n      <td>87053</td>\n    </tr>\n    <tr>\n      <th>9</th>\n      <td>Security</td>\n      <td>26</td>\n      <td>10600</td>\n      <td>8697</td>\n      <td>337.034</td>\n      <td>18848</td>\n      <td>7879</td>\n    </tr>\n    <tr>\n      <th>10</th>\n      <td>Reading</td>\n      <td>28</td>\n      <td>53287</td>\n      <td>35745</td>\n      <td>731.701</td>\n      <td>71302</td>\n      <td>16475</td>\n    </tr>\n    <tr>\n      <th>11</th>\n      <td>Writing</td>\n      <td>49</td>\n      <td>29953</td>\n      <td>23181</td>\n      <td>1347.262</td>\n      <td>102961</td>\n      <td>51367</td>\n    </tr>\n    <tr>\n      <th>12</th>\n      <td>Navigation</td>\n      <td>30</td>\n      <td>48849</td>\n      <td>29827</td>\n      <td>2362.634</td>\n      <td>309097</td>\n      <td>57788</td>\n    </tr>\n    <tr>\n      <th>13</th>\n      <td>Money</td>\n      <td>23</td>\n      <td>10319</td>\n      <td>7824</td>\n      <td>646.133</td>\n      <td>42156</td>\n      <td>11357</td>\n    </tr>\n    <tr>\n      <th>14</th>\n      <td>Connectivity</td>\n      <td>37</td>\n      <td>17195</td>\n      <td>12664</td>\n      <td>624.878</td>\n      <td>56099</td>\n      <td>22222</td>\n    </tr>\n    <tr>\n      <th>15</th>\n      <td>Sports &amp; Health</td>\n      <td>18</td>\n      <td>15190</td>\n      <td>11559</td>\n      <td>251.939</td>\n      <td>18988</td>\n      <td>5270</td>\n    </tr>\n    <tr>\n      <th>16</th>\n      <td>Phone &amp; SMS</td>\n      <td>11</td>\n      <td>26943</td>\n      <td>21664</td>\n      <td>112.603</td>\n      <td>22411</td>\n      <td>17776</td>\n    </tr>\n  </tbody>\n</table>\n</div>"
     },
     "execution_count": 18,
     "metadata": {},
     "output_type": "execute_result"
    }
   ],
   "source": [
    "from collections import Counter\n",
    "\n",
    "\n",
    "def table_6_helper(tup: tuple):\n",
    "    pkg, f, repo = tup\n",
    "    reviews = json.loads(DIR_APP_REVIEWS_PRED(pkg).read_text())\n",
    "    return f['categories'][0], {\n",
    "        'Apps': 1, 'Reviews': len(reviews), 'Informative': sum(r['pred_informative'] for r in reviews),\n",
    "        'KLOC': int(DIR_REPO_LOC(repo).read_text()) / 1000, 'Commits': len(commit_collect(repo)),\n",
    "        'Issues': len(json.loads(DIR_REPO_ISSUES(repo).read_text()))\n",
    "    }\n",
    "\n",
    "\n",
    "def table_6(apps: list[tuple[str, str]]) -> pd.DataFrame:\n",
    "    fd = get_f_droid_index()\n",
    "    apps = [(pkg, fd[pkg], repo) for pkg, repo in apps if pkg in fd]\n",
    "    categories: dict[str, Counter] = {}\n",
    "    data = pmap(table_6_helper, apps)\n",
    "    for d in data:\n",
    "        cat, counter = d\n",
    "        categories.setdefault(cat, Counter())\n",
    "        categories[cat].update(counter)\n",
    "    out = [{'Category': cat, **counter} for cat, counter in categories.items()]\n",
    "    return pd.DataFrame(out)\n",
    "\n",
    "\n",
    "table_6(list(apps.items()))"
   ],
   "metadata": {
    "collapsed": false,
    "pycharm": {
     "name": "#%%\n"
    }
   }
  },
  {
   "cell_type": "markdown",
   "source": [
    "### Figure 4 - Review coverage bar chart"
   ],
   "metadata": {
    "collapsed": false,
    "pycharm": {
     "name": "#%% md\n"
    }
   }
  },
  {
   "cell_type": "code",
   "execution_count": 65,
   "outputs": [
    {
     "name": "stderr",
     "output_type": "stream",
     "text": [
      "Loading files: 100%|██████████| 612/612 [00:02<00:00, 215.56it/s]\n"
     ]
    },
    {
     "data": {
      "text/plain": "<Figure size 432x288 with 1 Axes>",
      "image/png": "[encoded data removed]"
     },
     "metadata": {
      "needs_background": "light"
     },
     "output_type": "display_data"
    }
   ],
   "source": [
    "from hypy_utils.scientific_utils import plot, calc_col_stats\n",
    "from matplotlib import pyplot as plt\n",
    "\n",
    "\n",
    "def figure_4():\n",
    "    app_files = os.listdir(f'process/cir-links')\n",
    "    links = [json.loads(Path(f'process/cir-links/{a}').read_text()) for a in tq(app_files, 'Loading files')]\n",
    "    percentages = [sum(bool(d['commits'] or d['issues']) for r, d in a.items()) / len(a) for a in links]\n",
    "    stats = calc_col_stats(percentages)\n",
    "    app_groups = {'low': [], 'medium': [], 'high': []}\n",
    "    for f, p in zip(app_files, percentages):\n",
    "        pkg = f.replace('.json', '')\n",
    "        if p > stats.upper_quartile:\n",
    "            app_groups['high'].append(pkg)\n",
    "        elif p < stats.lower_quartile:\n",
    "            app_groups['low'].append(pkg)\n",
    "        else:\n",
    "            app_groups['medium'].append(pkg)\n",
    "\n",
    "    percentages.sort()\n",
    "\n",
    "    plt.autoscale(tight=True)\n",
    "    plot(plot=percentages, ylim=[0,1], xlabel='Apps', ylabel='Coverage', box=False, grid=True)\n",
    "    return app_groups\n",
    "\n",
    "\n",
    "app_groups = figure_4()"
   ],
   "metadata": {
    "collapsed": false,
    "pycharm": {
     "name": "#%%\n"
    }
   }
  },
  {
   "cell_type": "markdown",
   "source": [
    "# RQ3 - Effect of Crowd Review Mechanism\n",
    "\n",
    "\"What is the effect of a crowd review mechanism (for planning and implementing future changes) on the app success?\""
   ],
   "metadata": {
    "collapsed": false,
    "pycharm": {
     "name": "#%% md\n"
    }
   }
  },
  {
   "cell_type": "markdown",
   "source": [
    "### Figure 5 - BoxPlot of Average Rating Change of the Three Groups"
   ],
   "metadata": {
    "collapsed": false,
    "pycharm": {
     "name": "#%% md\n"
    }
   }
  },
  {
   "cell_type": "code",
   "execution_count": 73,
   "outputs": [
    {
     "name": "stderr",
     "output_type": "stream",
     "text": [
      "Loading reviews: 100%|██████████| 612/612 [00:00<00:00, 624.27it/s]\n"
     ]
    },
    {
     "data": {
      "text/plain": "<Figure size 432x288 with 1 Axes>",
      "image/png": "[encoded data removed]"
     },
     "metadata": {
      "needs_background": "light"
     },
     "output_type": "display_data"
    },
    {
     "name": "stderr",
     "output_type": "stream",
     "text": [
      "Computing rating change for low group: 100%|██████████| 153/153 [00:00<00:00, 308.13it/s]\n",
      "Computing rating change for medium group: 100%|██████████| 310/310 [00:00<00:00, 480.05it/s]\n",
      "Computing rating change for high group: 100%|██████████| 149/149 [00:01<00:00, 114.18it/s]\n"
     ]
    },
    {
     "data": {
      "text/plain": "<Figure size 432x288 with 1 Axes>",
      "image/png": "[encoded data removed]"
     },
     "metadata": {
      "needs_background": "light"
     },
     "output_type": "display_data"
    }
   ],
   "source": [
    "def figure_5_helper(app: str):\n",
    "    return np.mean([r.score for r in load_reviews(app)])\n",
    "\n",
    "\n",
    "def figure_5(apps: list[str]) -> dict[str, list[list[float]]]:\n",
    "    ratings = pmap(figure_5_helper, apps, desc='Loading reviews')\n",
    "    ratings = dict(zip(apps, ratings))\n",
    "    groups = {g: [ratings[a] for a in aps] for g, aps in app_groups.items()}\n",
    "    plt.boxplot(list(groups.values()), labels=list(groups.keys()), vert=False)\n",
    "    plot(xlim=[0,5], xlabel='App average rating', ylabel='Informative reviews implemented').show()\n",
    "\n",
    "    groups = {g: [v for v in pmap(get_rating_change, aps, desc=f'Computing rating change for {g} group') if not math.isnan(v)]\n",
    "              for g, aps in app_groups.items()}\n",
    "    plt.boxplot(list(groups.values()), labels=list(groups.keys()), vert=False)\n",
    "    plot(xlim=[-2.5, 2.5], xlabel='Change in apps\\' average rating', ylabel='Informative reviews implemented').show()\n",
    "\n",
    "    return groups\n",
    "\n",
    "\n",
    "app_group_deltas = figure_5(list(apps.keys()))"
   ],
   "metadata": {
    "collapsed": false,
    "pycharm": {
     "name": "#%%\n"
    }
   }
  },
  {
   "cell_type": "markdown",
   "source": [
    "### Table 14 - Mann-Whitney test and Cliff's Delta"
   ],
   "metadata": {
    "collapsed": false,
    "pycharm": {
     "name": "#%% md\n"
    }
   }
  },
  {
   "cell_type": "code",
   "execution_count": 79,
   "outputs": [
    {
     "data": {
      "text/plain": "             Test p-value                   d\n0  high vs medium   0.553   0.04 (negligible)\n1     high vs low   0.634   0.04 (negligible)\n2   medium vs low   0.985  -0.00 (negligible)",
      "text/html": "<div>\n<style scoped>\n    .dataframe tbody tr th:only-of-type {\n        vertical-align: middle;\n    }\n\n    .dataframe tbody tr th {\n        vertical-align: top;\n    }\n\n    .dataframe thead th {\n        text-align: right;\n    }\n</style>\n<table border=\"1\" class=\"dataframe\">\n  <thead>\n    <tr style=\"text-align: right;\">\n      <th></th>\n      <th>Test</th>\n      <th>p-value</th>\n      <th>d</th>\n    </tr>\n  </thead>\n  <tbody>\n    <tr>\n      <th>0</th>\n      <td>high vs medium</td>\n      <td>0.553</td>\n      <td>0.04 (negligible)</td>\n    </tr>\n    <tr>\n      <th>1</th>\n      <td>high vs low</td>\n      <td>0.634</td>\n      <td>0.04 (negligible)</td>\n    </tr>\n    <tr>\n      <th>2</th>\n      <td>medium vs low</td>\n      <td>0.985</td>\n      <td>-0.00 (negligible)</td>\n    </tr>\n  </tbody>\n</table>\n</div>"
     },
     "execution_count": 79,
     "metadata": {},
     "output_type": "execute_result"
    }
   ],
   "source": [
    "from itertools import combinations\n",
    "from cliffs_delta import cliffs_delta\n",
    "from scipy.stats import mannwhitneyu\n",
    "\n",
    "def table_14() -> pd.DataFrame:\n",
    "    keys = ['high', 'medium', 'low']\n",
    "    results = []\n",
    "    for f, t in list(combinations(keys, 2)):\n",
    "        delta, remark = cliffs_delta(app_group_deltas[f], app_group_deltas[t])\n",
    "        results.append({\n",
    "            'Test': f'{f} vs {t}',\n",
    "            'p-value': f'{mannwhitneyu(app_group_deltas[f], app_group_deltas[t])[1]:.3f}',\n",
    "            'd': f'{delta:.2f} ({remark})'\n",
    "        })\n",
    "    return pd.DataFrame(results)\n",
    "\n",
    "\n",
    "table_14()\n"
   ],
   "metadata": {
    "collapsed": false,
    "pycharm": {
     "name": "#%%\n"
    }
   }
  }
 ]
}